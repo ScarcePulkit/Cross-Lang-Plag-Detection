{
 "cells": [
  {
   "cell_type": "markdown",
   "metadata": {},
   "source": [
    "#### Cross Lingual Document Similarity Analysis/Plagiarism Detection\n",
    "##### The Entire Code is below:"
   ]
  },
  {
   "cell_type": "code",
   "execution_count": 1,
   "metadata": {},
   "outputs": [],
   "source": [
    "import re\n",
    "import nltk\n",
    "from nltk.util import ngrams, pad_sequence, everygrams\n",
    "from nltk.lm import MLE, WittenBellInterpolated\n",
    "from scipy.ndimage import gaussian_filter\n",
    "import numpy as np\n",
    "import pandas as pd\n",
    "import plotly.graph_objects as go\n",
    "import plotly.express as px\n",
    "import spacy\n",
    "from zipfile import ZipFile\n",
    "from googletrans import Translator\n",
    "import googletrans\n",
    "from PyPDF2 import PdfReader\n",
    "import tkinter as tk\n",
    "from tkinter import *\n",
    "from tkinter.ttk import *\n",
    "from pdfminer.pdfinterp import PDFResourceManager, PDFPageInterpreter\n",
    "from pdfminer.converter import TextConverter\n",
    "from pdfminer.layout import LAParams\n",
    "from pdfminer.pdfpage import PDFPage\n",
    "import io\n",
    "import os\n",
    "from io import StringIO"
   ]
  },
  {
   "cell_type": "markdown",
   "metadata": {},
   "source": [
    "-> preProcess(text): returns text\n",
    "\n",
    "- Remove puctuation, new lines, tabs and extra spaces.\n",
    "- Remove \"Machine Translated By Google\" tag\n",
    "- Remove the Bibliography and References Section\n"
   ]
  },
  {
   "cell_type": "code",
   "execution_count": 2,
   "metadata": {},
   "outputs": [],
   "source": [
    "def preProcess(text):\n",
    "    text = re.sub(r'[^\\w\\s]','',text)\n",
    "    text = text.replace('\\n', ' ')\n",
    "    text = text.replace('\\t', ' ')\n",
    "    text = text.replace(\"Machine Translated by Google\",' ')\n",
    "    text = re.sub(r'^https?:\\/\\/.*[\\r\\n]*', ' ', text, flags=re.MULTILINE)\n",
    "    text = \" \".join(text.split())\n",
    "\n",
    "    # i = text.find('Bibliography')\n",
    "    # if i != -1:\n",
    "    #     text = text[:i]\n",
    "    # i = text.find('References')\n",
    "    # if i != -1:\n",
    "    #     text = text[:i]\n",
    "    \n",
    "    return text"
   ]
  },
  {
   "cell_type": "markdown",
   "metadata": {},
   "source": [
    "-> extractText(fileName,start): \n",
    "- Returns extracted text from 'fileName' PDF from 'start' page"
   ]
  },
  {
   "cell_type": "code",
   "execution_count": 3,
   "metadata": {},
   "outputs": [],
   "source": [
    "def extractText(fileName,start):\n",
    "    rsrcmgr = PDFResourceManager()\n",
    "    codec = 'utf-8'\n",
    "    laparams = LAParams()\n",
    "\n",
    "    with io.StringIO() as retstr:\n",
    "        with TextConverter(rsrcmgr, retstr, codec=codec,\n",
    "                           laparams=laparams) as device:\n",
    "            with open(fileName, 'rb') as fp:\n",
    "                interpreter = PDFPageInterpreter(rsrcmgr, device)\n",
    "                password = \"\"\n",
    "                maxpages = 0\n",
    "                caching = True\n",
    "                pagenos = set()\n",
    "                pgNo = 0\n",
    "\n",
    "                for page in PDFPage.get_pages(fp,\n",
    "                                              pagenos,\n",
    "                                              maxpages=maxpages,\n",
    "                                              password=password,\n",
    "                                              caching=caching,\n",
    "                                              check_extractable=True):\n",
    "                    if(pgNo != (start-1)):\n",
    "                        interpreter.process_page(page)\n",
    "                    pgNo += 1\n",
    "\n",
    "                return retstr.getvalue()\n"
   ]
  },
  {
   "cell_type": "markdown",
   "metadata": {},
   "source": [
    "-> extractFromZIP(zipFileName):\n",
    "- Extracts the Corpus PDFs from the specified ZIP File"
   ]
  },
  {
   "cell_type": "code",
   "execution_count": 4,
   "metadata": {},
   "outputs": [],
   "source": [
    "def extractFromZIP(zipFileName):\n",
    "    # ZIP file should be in the same folder as the .ipynb file obviously\n",
    "    # extract the zip file\n",
    "    with ZipFile(zipFileName, 'r') as zipObj:\n",
    "        zipObj.extractall()"
   ]
  },
  {
   "cell_type": "code",
   "execution_count": 5,
   "metadata": {},
   "outputs": [],
   "source": [
    "# Load the language library\n",
    "nlp = spacy.load('en_core_web_lg')"
   ]
  },
  {
   "cell_type": "markdown",
   "metadata": {},
   "source": [
    "-> getSourceLangs():\n",
    "- Get the dict of source languages for each source language currently present in the Folder"
   ]
  },
  {
   "cell_type": "code",
   "execution_count": 6,
   "metadata": {},
   "outputs": [],
   "source": [
    "def getSourceLangs():\n",
    "    lang_dict = googletrans.LANGUAGES\n",
    "    for i in lang_dict:\n",
    "        lang_dict[i] = lang_dict[i][0].upper() + lang_dict[i][1:]\n",
    "        \n",
    "    translator = Translator()\n",
    "    source_lang_dict = {}\n",
    "    i=0\n",
    "    for x in os.listdir():\n",
    "        if x.endswith(\".pdf\") and not x.startswith(\"Suspicious\"):\n",
    "            reader = PdfReader(x)\n",
    "            pages = len(reader.pages)\n",
    "            story = \"\"\"\"\"\"\n",
    "            story = story + str(reader.pages[0].extractText())\n",
    "            lang = translator.detect(story)\n",
    "            source_lang_dict[i] = lang_dict[lang.lang]\n",
    "            os.remove(x)\n",
    "            i+=1\n",
    "    \n",
    "    return source_lang_dict"
   ]
  },
  {
   "cell_type": "markdown",
   "metadata": {},
   "source": [
    "-> getSuspiciousDoc():\n",
    "- Get the name of the Suspicious Document"
   ]
  },
  {
   "cell_type": "code",
   "execution_count": 7,
   "metadata": {},
   "outputs": [],
   "source": [
    "def getSuspiciousDoc():\n",
    "    for x in os.listdir():\n",
    "        if x.endswith(\".pdf\") or x.endswith(\".PDF\"):\n",
    "            return x"
   ]
  },
  {
   "cell_type": "markdown",
   "metadata": {},
   "source": [
    "-> createCorpus():\n",
    "- Create and Return List of Source Doc Names"
   ]
  },
  {
   "cell_type": "code",
   "execution_count": 8,
   "metadata": {},
   "outputs": [],
   "source": [
    "def createCorpus():\n",
    "    corpus = []\n",
    "    for x in os.listdir():\n",
    "        if ((x.endswith(\".pdf\") or x.endswith(\".PDF\")) and not(x.startswith(\"Sus\"))):\n",
    "            corpus.append(x)\n",
    "    return corpus"
   ]
  },
  {
   "cell_type": "markdown",
   "metadata": {},
   "source": [
    "-> removeOriginals():\n",
    "- Remove the Original Source Documents temporarily for further code execution"
   ]
  },
  {
   "cell_type": "code",
   "execution_count": 9,
   "metadata": {},
   "outputs": [],
   "source": [
    "def removeOriginals():\n",
    "    for x in os.listdir():\n",
    "        if ((x.endswith(\".pdf\") or x.endswith(\".PDF\")) and not(x.startswith(\"Sus\"))):\n",
    "            os.remove(x)"
   ]
  },
  {
   "cell_type": "markdown",
   "metadata": {},
   "source": [
    "-> createListOfCorpus(corpus):\n",
    "- Create and return list of Individual contents of the Corpus Docs"
   ]
  },
  {
   "cell_type": "code",
   "execution_count": 10,
   "metadata": {},
   "outputs": [],
   "source": [
    "def createListOfCorpus(corpus):\n",
    "    listOfCorpus = []\n",
    "    for x in range(len(corpus)):\n",
    "        text = extractText(corpus[x],1)\n",
    "        text = preProcess(text)\n",
    "        listOfCorpus.append(text)\n",
    "    return listOfCorpus"
   ]
  },
  {
   "cell_type": "markdown",
   "metadata": {},
   "source": [
    "-> createReferences(corpus):\n",
    "- Create and return dictionary of the Corpus Doc Names for mapping back Plagiarised Portions"
   ]
  },
  {
   "cell_type": "code",
   "execution_count": 11,
   "metadata": {},
   "outputs": [],
   "source": [
    "def createReferences(corpus):\n",
    "    references = {}\n",
    "    for x in range(len(corpus)):\n",
    "        references[x] = corpus[x]\n",
    "    \n",
    "    return references"
   ]
  },
  {
   "cell_type": "markdown",
   "metadata": {},
   "source": [
    "-> createVector(listOfCorpus):\n",
    "- Create and return list of vectors of the Individual contents of the Corpus Docs"
   ]
  },
  {
   "cell_type": "code",
   "execution_count": 12,
   "metadata": {},
   "outputs": [],
   "source": [
    "def createVector(listOfCorpus):\n",
    "    vector = []\n",
    "    for x in listOfCorpus:\n",
    "        vector.append(nlp(x))\n",
    "    return vector"
   ]
  },
  {
   "cell_type": "markdown",
   "metadata": {},
   "source": [
    "-> trainModel(trainingVector, n):\n",
    "- Trains model based on Witten Bell Interpolation over trainingVector (of entire Corpus combined) and n-gram value 'n'\n",
    "- Returns model"
   ]
  },
  {
   "cell_type": "code",
   "execution_count": 13,
   "metadata": {},
   "outputs": [],
   "source": [
    "def trainModel(trainingVector, n):\n",
    "    words = [w.text for w in trainingVector]\n",
    "    training_data = list(pad_sequence(words, n, \n",
    "                                    pad_left=True, \n",
    "                                    left_pad_symbol=\"<s>\"))\n",
    "    # Generate n-grams from the training data\n",
    "    ngrams = list(everygrams(training_data, max_len=n))\n",
    "    # Build n-gram language model\n",
    "    model = WittenBellInterpolated(n)\n",
    "    model.fit([ngrams],vocabulary_text=training_data)\n",
    "    return model"
   ]
  },
  {
   "cell_type": "markdown",
   "metadata": {},
   "source": [
    "-> createTestData(fileName):\n",
    "- Create the test data from the Suspicious Doc and return its vector"
   ]
  },
  {
   "cell_type": "code",
   "execution_count": 14,
   "metadata": {},
   "outputs": [],
   "source": [
    "def createTestData(fileName):\n",
    "    suspiciousText = extractText(fileName,0)\n",
    "    suspiciousText = preProcess(suspiciousText)\n",
    "    testVector = nlp(suspiciousText)\n",
    "    words = [w.text for w in testVector]\n",
    "    test_data = list(pad_sequence(words, n,\n",
    "                                pad_left=True,\n",
    "                                left_pad_symbol=\"<s>\"))\n",
    "    return test_data,testVector,suspiciousText\n"
   ]
  },
  {
   "cell_type": "markdown",
   "metadata": {},
   "source": [
    "-> generateScores(model, test_data):\n",
    "- Get scores of probability of plagiarism on individual words based on context of neighbouring 'n' words\n",
    "- Return numpy array of those scores"
   ]
  },
  {
   "cell_type": "code",
   "execution_count": 15,
   "metadata": {},
   "outputs": [],
   "source": [
    "def generateScores(model, test_data):\n",
    "    score=[]\n",
    "    #source = []\n",
    "    # Generate score\n",
    "    for i,ele in enumerate(test_data[n-1:]):\n",
    "        s = model.score(ele,test_data[i:i+n-1])\n",
    "        score.append(s)\n",
    "\n",
    "    # Convert to numpy array\n",
    "    score_np=np.array(score)\n",
    "    return score_np"
   ]
  },
  {
   "cell_type": "markdown",
   "metadata": {},
   "source": [
    "-> generateData(width,score_np):\n",
    "- Creating another numpy array of matrix dimensions to fit in a heatmap\n",
    "- Creating source labels to label individual Plagiarised portions\n",
    "- returning diff of size b/w 1D 'a' and score_np\n"
   ]
  },
  {
   "cell_type": "code",
   "execution_count": 16,
   "metadata": {},
   "outputs": [],
   "source": [
    "def generateData(width,score_np):\n",
    "    height=np.ceil(len(score_np)/width).astype(\"int32\")\n",
    "    # source label to be used to identify original source of plagiarised portions\n",
    "    # Copy the score_np to a new array with shape (height,width)\n",
    "    a=np.zeros(width*height)\n",
    "    sourceLabel = [\"Unplagiarised\"]*(width*height)\n",
    "    a[:len(score_np)] = score_np\n",
    "\n",
    "    diff = len(a) - len(score_np)\n",
    "    # Apply gaussian filter to the array\n",
    "    a = gaussian_filter(a, sigma=1.0)\n",
    "    # Reshape to fit rectangular shape\n",
    "    a = a.reshape(-1,width)\n",
    "    return a, sourceLabel, diff"
   ]
  },
  {
   "cell_type": "markdown",
   "metadata": {},
   "source": [
    "-> getPlagPercentage(a,diff):\n",
    "- Get back the Pecentage of Plagiarism\n",
    "- Get back the indexes of the Plagiarised words"
   ]
  },
  {
   "cell_type": "code",
   "execution_count": 17,
   "metadata": {},
   "outputs": [],
   "source": [
    "def getPlagPercentage(a,diff):\n",
    "    a = a.reshape(-1)\n",
    "    plagWds = 0\n",
    "    plID=[] \n",
    "    # If a[i] > 0.62 or a[i-1]>0.58 or a[i+1]>0.58, then increase plagWds by 1\n",
    "    for i in range(1,a.shape[0]-2): \n",
    "        if a[i] > 0.62 or a[i+1]>0.60 or a[i+2]>0.60 or a[i-1]>0.60:\n",
    "            plagWds += 1\n",
    "            plID.append(i)\n",
    "\n",
    "    plagPercentage = plagWds*100/(len(a)-diff)\n",
    "\n",
    "    return plagPercentage,plID"
   ]
  },
  {
   "cell_type": "markdown",
   "metadata": {},
   "source": [
    "-> check_plagiarised(j,vecO,vecP,id,fin,plag_dict):\n",
    "- Mapping the Plagiarised portions to their Sources\n",
    "- Returns the dictionary with indexes of Plagiarised portions and their corresponding portions"
   ]
  },
  {
   "cell_type": "code",
   "execution_count": 18,
   "metadata": {},
   "outputs": [],
   "source": [
    "def check_plagiarised(j,vecO,vecP,id,fin,plag_dict):\n",
    "    for k in range(len(vecO)-3):\n",
    "        # X is Vector of the plagiarized text present between indexes id and fin\n",
    "        X1=vecP[id:id+12]\n",
    "        X2 = vecP[fin-12:fin]\n",
    "        X3 = vecP[(id+fin)//2-6:(id+fin)//2+6]\n",
    "        # Y is Vector of the original text present between indexes j and j+l\n",
    "        Y1=vecO[k:k+12]\n",
    "        # Y2 = vecO[k:k+fin-id+1]\n",
    "        \n",
    "        #Computing cosine similarity\n",
    "        sim1 = X1.similarity(Y1)\n",
    "        sim2 = X2.similarity(Y1)\n",
    "        sim3 = X3.similarity(Y1)\n",
    "\n",
    "        # If the cosine similarity is greater than 0.997, then we get a match from original text\n",
    "        if(sim1>0.995 or sim2>0.995 or sim3>0.997):\n",
    "            if(j in plag_dict):\n",
    "                a=[id,fin]\n",
    "                b=[k,k+fin-id+1]\n",
    "                plag_dict[j].append([a,b])\n",
    "            else:\n",
    "                a=[id,fin]\n",
    "                b=[k,k+fin-id+1]\n",
    "                plag_dict[j] = [[a,b]]\n",
    "            break\n",
    "    \n",
    "    return plag_dict"
   ]
  },
  {
   "cell_type": "markdown",
   "metadata": {},
   "source": [
    "-> getJumpStates(plID):\n",
    "- Returns the specific Indexes of the Plagiarised portions from the Suspicious Doc"
   ]
  },
  {
   "cell_type": "code",
   "execution_count": 19,
   "metadata": {},
   "outputs": [],
   "source": [
    "def getJumpStates(plID):\n",
    "    jumpStates=[]\n",
    "    jumpStates.append(plID[0])\n",
    "    for i in range(len(plID)):\n",
    "        if(plID[i]-plID[i-1]>11):\n",
    "            jumpStates.append(plID[i-1])\n",
    "            jumpStates.append(plID[i])\n",
    "\n",
    "    jumpStates.append(plID[-1])\n",
    "    return jumpStates"
   ]
  },
  {
   "cell_type": "markdown",
   "metadata": {},
   "source": [
    "-> getPlagDict(jumpStates,vector,testVector):\n",
    "- For each pair in the jumpStates, it adds its source to the plag_dict and returns the plag_dict after completion"
   ]
  },
  {
   "cell_type": "code",
   "execution_count": 20,
   "metadata": {},
   "outputs": [],
   "source": [
    "def getPlagDict(jumpStates,vector,testVector):\n",
    "    plag_dict = {}\n",
    "    # Fill plag_dict with the plagiarised portions\n",
    "    for i in range(0,len(jumpStates),2):\n",
    "        id=jumpStates[i]\n",
    "        fin=jumpStates[i+1]\n",
    "\n",
    "        # Checking which document the plagiarised portion belongs to\n",
    "        for j,vec in enumerate(vector):\n",
    "            plag_dict=check_plagiarised(j,vector[j],testVector,id,fin,plag_dict)\n",
    "            \n",
    "    return plag_dict"
   ]
  },
  {
   "cell_type": "markdown",
   "metadata": {},
   "source": [
    "-> populateSourceLabel(plag_dict,sourceLabel,references,width):\n",
    "- Fills the SourceLabels with the original names of the sources from which plagiarised portions have been taken"
   ]
  },
  {
   "cell_type": "code",
   "execution_count": 21,
   "metadata": {},
   "outputs": [],
   "source": [
    "def populateSourceLabel(plag_dict,sourceLabel,references,width):\n",
    "    # Iterate over plag_dict\n",
    "    for i in plag_dict:\n",
    "        v = plag_dict[i]\n",
    "        for j in v:\n",
    "            # Extracting the plagiarised portions\n",
    "            st = j[0][0]\n",
    "            en = j[0][1]\n",
    "\n",
    "            # Labelling those portions\n",
    "            sourceLabel[st:en+1] = [references[i] for x in sourceLabel[st:en+1]]\n",
    "            \n",
    "    sourceLabel = np.array(sourceLabel)\n",
    "    sourceLabel = sourceLabel.reshape(-1,width)\n",
    "    return sourceLabel"
   ]
  },
  {
   "cell_type": "markdown",
   "metadata": {},
   "source": [
    "-> createLabels(testVector,width,diff):\n",
    "- Creates the content for writing in the Heatmaps\n",
    "- Basically the entire suspicious doc"
   ]
  },
  {
   "cell_type": "code",
   "execution_count": 22,
   "metadata": {},
   "outputs": [],
   "source": [
    "def createLabels(testVector,width,diff):\n",
    "    # format labels\n",
    "    labels = [\" \".join(testVector[i:i+width].text.split()) for i in range(0, len(testVector), width)]\n",
    "    labels_individual = [x.split() for x in labels]\n",
    "    labels_individual[-1] += [\"\"]*diff\n",
    "    labels = [f\"{x:60.60}\" for x in labels]\n",
    "\n",
    "    return labels,labels_individual"
   ]
  },
  {
   "cell_type": "markdown",
   "metadata": {},
   "source": [
    "-> generateHeatMap(a,sourceLabel,width,height,labels_individual):\n",
    "- Generates heatmap to help visualise the plagiarised portions\n",
    "- Returns the created figure"
   ]
  },
  {
   "cell_type": "code",
   "execution_count": 23,
   "metadata": {},
   "outputs": [],
   "source": [
    "def generateHeatMap(a,sourceLabel,width,height,labels_individual,suspiciousDoc):\n",
    "    # create heatmap of the Plagiarized Text\n",
    "    a=a.reshape(-1,width)\n",
    "    fig = go.Figure(data=go.Heatmap(\n",
    "                    z=a, x0=0, dx=1,\n",
    "                    #y=labels, \n",
    "                    zmin=0, zmax=1,\n",
    "                    customdata=sourceLabel,\n",
    "                    hovertemplate='%{customdata} <br><b>Score:%{z:.3f}<extra></extra>',\n",
    "                    text=labels_individual,\n",
    "                    texttemplate='%{text}',\n",
    "                    textfont={\"size\":7},\n",
    "                    colorscale='reds'\n",
    "                    ))\n",
    "    fig.update_layout({\"height\":height*25, \"width\":1000, \"font\":{\"family\":\"sans-serif\"},\"title\": suspiciousDoc.replace(\".pdf\",'')})\n",
    "    fig['layout']['yaxis']['autorange'] = \"reversed\"\n",
    "    return fig"
   ]
  },
  {
   "cell_type": "markdown",
   "metadata": {},
   "source": [
    "-> displayDoc(jumpStates,testVector,suspiciousText)\n",
    "- Displays the Entire Suspicious Doc in a TextBox\n",
    "- Has two buttons: Highlight and Exit\n",
    "- Highlight button highlights the Plagiarised Portions and Exit button closes the window\n"
   ]
  },
  {
   "cell_type": "code",
   "execution_count": 24,
   "metadata": {},
   "outputs": [],
   "source": [
    "def displayDoc(jumpStates,testVector,suspiciousText,suspiciousDoc):\n",
    "    root = Tk()\n",
    "    \n",
    "    # specify size of window.\n",
    "    root.geometry(\"1000x800\")\n",
    "    root.config(bg='#59FC97')\n",
    "\n",
    "    style = Style()\n",
    "\n",
    "    style.configure('W.TButton', font =\n",
    "               ('calibri', 10, 'bold'),\n",
    "                foreground = 'black',\n",
    "                background = 'purple')\n",
    "    \n",
    "    # Create text widget and specify size.\n",
    "    T = Text(root, wrap = 'word', height = 38, width = 120, font=(\"calibri\", 12), bg='black', fg='white')\n",
    "    \n",
    "    # Create label\n",
    "    l = Label(root, text = suspiciousDoc.replace(\".pdf\",''))\n",
    "    l.config(font =(\"calibri\", 20), background='#59FC97', foreground='black')\n",
    "            \n",
    "    \n",
    "    # Create an Exit button.\n",
    "    b1 = Button(root, text = \"Exit\",\n",
    "                style='W.TButton',\n",
    "                command = root.destroy)\n",
    "\n",
    "    l.pack()\n",
    "    T.pack()\n",
    "    b1.pack(side=RIGHT, padx=350, pady=25)\n",
    "\n",
    "    # Insert The Text\n",
    "    T.insert(tk.END, suspiciousText)\n",
    "\n",
    "    def search_re(pattern):\n",
    "        \"\"\"\n",
    "        Uses the python re library to match patterns.\n",
    "\n",
    "        pattern - the pattern to match.\n",
    "        \"\"\"\n",
    "        matches = []\n",
    "        text = T.get(\"1.0\", tk.END).splitlines()\n",
    "        for i, line in enumerate(text):\n",
    "            for match in re.finditer(pattern, line):\n",
    "                matches.append(f\"{i + 1}.{match.start()}\")\n",
    "                matches.append(f\"{i + 1}.{match.end()}\")\n",
    "        \n",
    "        return matches\n",
    "    \n",
    "    def getLocDict(jumpStates):\n",
    "        loc_dict = {}\n",
    "        for i in range(0,len(jumpStates),2):\n",
    "            a = search_re(testVector[jumpStates[i]:jumpStates[i]+4].text)\n",
    "            b = search_re(testVector[jumpStates[i+1]-3:jumpStates[i+1]+1].text)\n",
    "            loc_dict[a[0]] = b[1]\n",
    "        return loc_dict\n",
    "\n",
    "    def add_highlighter(s,e):\n",
    "        T.tag_add(\"start\", s, e)\n",
    "        T.tag_config(\"start\", background= \"#FE5E61\", foreground= \"white\")\n",
    "\n",
    "    def highlight_all(loc_dict):\n",
    "        for i in loc_dict:\n",
    "            add_highlighter(i, loc_dict[i])\n",
    "    \n",
    "    loc_dict = getLocDict(jumpStates)\n",
    "\n",
    "    b2 = Button(root, text= \"Highlight Plagiarised Portions\", style= 'W.TButton', command = lambda: highlight_all(loc_dict))\n",
    "    b2.pack(side = BOTTOM, padx = 200, pady = 25)\n",
    "\n",
    "    root.mainloop()"
   ]
  },
  {
   "cell_type": "markdown",
   "metadata": {},
   "source": [
    "-> getPieLabelAndVals_1(plag_dict,plID):\n",
    "- Set and return the labels for the Pie Chart 1 which will contain overall results of Plagiarism Check\n",
    "- Set and return the values for calculating percentage values in Pie Chart"
   ]
  },
  {
   "cell_type": "code",
   "execution_count": 25,
   "metadata": {},
   "outputs": [],
   "source": [
    "def getPieLabelAndVals_1(plag_dict,plID):\n",
    "    pieL1 = []\n",
    "\n",
    "    pieL1.append(\"Unplagiarised\")\n",
    "    pieL1.append(\"Plagiarised\")\n",
    "\n",
    "    pieVal1 = []\n",
    "    pieVal1.append(len(score_np)-len(plID))\n",
    "\n",
    "    # Iterate over plag_dict\n",
    "    s=0\n",
    "    for i in plag_dict:\n",
    "        v = plag_dict[i]\n",
    "        \n",
    "        for j in v:\n",
    "            # Extracting the plagiarised portions\n",
    "            st = j[0][0]\n",
    "            en = j[0][1]\n",
    "\n",
    "            s=s+en-st+1\n",
    "            \n",
    "    pieVal1.append(s)\n",
    "    return pieL1,pieVal1"
   ]
  },
  {
   "cell_type": "markdown",
   "metadata": {},
   "source": [
    "-> getPieLabelAndVals_1(plag_dict,plID,references):\n",
    "- Set and return the labels for the Pie Chart 2 which will contain detailed results of Plagiarism Check depicting percentage of Plagiarism\n",
    "    attributed to each Source\n",
    "- Set and return the values for calculating percentage values in Pie Chart 2"
   ]
  },
  {
   "cell_type": "code",
   "execution_count": 26,
   "metadata": {},
   "outputs": [],
   "source": [
    "def getPieLabelAndVals_2(plag_dict,plID,references):\n",
    "    pieL2 =[]\n",
    "    pieL2.append(\"Unplagiarised\")\n",
    "\n",
    "    for i in references:\n",
    "        pieL2.append(references[i])\n",
    "\n",
    "    pieVal2 = [0]*len(pieL2)\n",
    "    pieVal2[0]=(len(score_np)-len(plID))\n",
    "\n",
    "    # Iterate over plag_dict\n",
    "    for i in plag_dict:\n",
    "        v = plag_dict[i]\n",
    "        s=0\n",
    "        for j in v:\n",
    "            # Extracting the plagiarised portions\n",
    "            st = j[0][0]\n",
    "            en = j[0][1]\n",
    "\n",
    "            s=s+en-st+1\n",
    "        pieVal2[i+1]=s\n",
    "    \n",
    "    return pieL2,pieVal2"
   ]
  },
  {
   "cell_type": "markdown",
   "metadata": {},
   "source": [
    "-> createDataFrames(pieL1,pieL2,pieVal1,pieVal2):\n",
    "- Create pandas Data Frame of Labels and Values for both Pie Charts "
   ]
  },
  {
   "cell_type": "code",
   "execution_count": 27,
   "metadata": {},
   "outputs": [],
   "source": [
    "def createDataFrames(pieL1,pieL2,pieVal1,pieVal2):\n",
    "    df1 = pd.DataFrame({\"Status\":pieL1,\"No. of Words\":pieVal1})\n",
    "    df2 = pd.DataFrame({\"Source\":pieL2,\"No. of Words\":pieVal2})\n",
    "    return df1,df2"
   ]
  },
  {
   "cell_type": "markdown",
   "metadata": {},
   "source": [
    "-> createPieCharts(df1,df2):\n",
    "- Create the Pie charts for both data frames with custom features for better visibility"
   ]
  },
  {
   "cell_type": "code",
   "execution_count": 28,
   "metadata": {},
   "outputs": [],
   "source": [
    "def createPieCharts(df1,df2):\n",
    "    figP1 = px.pie(df1,values='No. of Words', names='Status',\n",
    "             title = \"Plagiarism Status\",\n",
    "             color_discrete_sequence=px.colors.sequential.Bluered_r,\n",
    "             hole=0.5)\n",
    "    figP1.update_layout({\"height\":400, \"width\":400, \"font\":{\"family\":\"sans-serif\"}})\n",
    "    figP1.update_layout(paper_bgcolor=\"#000000\")\n",
    "    figP1.update_layout(\n",
    "                            font_family=\"sans-serif\",\n",
    "                            font_color=\"cyan\",\n",
    "                            title_font_family=\"sans-serif\",\n",
    "                            title_font_color=\"white\",\n",
    "                            legend_title_font_color=\"cyan\"\n",
    "                        )\n",
    "    figP1.update_layout(margin=dict(t=40, b=0, l=0, r=0))\n",
    "\n",
    "    figP2 = px.pie(df2,values='No. of Words', names='Source',\n",
    "                title = \"Plagiarism Source\",\n",
    "                color_discrete_sequence=px.colors.sequential.Rainbow_r,\n",
    "                hole=0.5)\n",
    "    figP2.update_layout({\"height\":400, \"width\":800, \"font\":{\"family\":\"sans-serif\"}})\n",
    "    figP2.update_layout(paper_bgcolor=\"#000000\")\n",
    "    figP2.update_layout(\n",
    "                            font_family=\"sans-serif\",\n",
    "                            font_color=\"cyan\",\n",
    "                            title_font_family=\"sans-serif\",\n",
    "                            title_font_color=\"white\",\n",
    "                            legend_title_font_color=\"cyan\"\n",
    "                        )\n",
    "    figP2.update_layout(margin=dict(t=40, b=0, l=0, r=0))\n",
    "\n",
    "    return figP1,figP2"
   ]
  },
  {
   "cell_type": "code",
   "execution_count": 29,
   "metadata": {},
   "outputs": [],
   "source": [
    "def modify_df(df2,source_lang_dict):\n",
    "    df2['Percent'] = df2['No. of Words']/sum(df2['No. of Words'])*100\n",
    "    df2['Source Language'] = ''\n",
    "    \n",
    "    for x in df2.index:\n",
    "        if x==0:\n",
    "            df2.loc[x,'Source Language'] = '---'\n",
    "        else:\n",
    "            df2.loc[x,'Source Language'] = source_lang_dict[x-1]\n",
    "    \n",
    "    def make_clickable(val):\n",
    "        return f'<a target=\"_blank\" href=\"{val}\">{val}</a>'\n",
    "\n",
    "    df2 = df2.style.format({'Source': make_clickable})\n",
    "    return df2"
   ]
  },
  {
   "cell_type": "markdown",
   "metadata": {},
   "source": [
    "- The real code execution begins here\n",
    "- Please take care of the following points:\n",
    "    - The Documents in Corpus/Source, must be contained in a zip file in their original (untranslated) versions\n",
    "    - The Documents in Corpus/Source, must be contained in another zip file in their derived (translated) versions\n",
    "    - The Suspicious Document must be contained in a seperate zip file\n",
    "- The User would be asked for their input 3 times during the execution henceforth\n",
    "- Inputs would ask for the names of the aforementioned zip files"
   ]
  },
  {
   "cell_type": "code",
   "execution_count": 30,
   "metadata": {},
   "outputs": [],
   "source": [
    "zipUntranslated = input(\"Name of the Corpus (Untranslated) zip file (put .zip in name): \")"
   ]
  },
  {
   "cell_type": "code",
   "execution_count": null,
   "metadata": {},
   "outputs": [],
   "source": [
    "extractFromZIP(zipUntranslated)\n",
    "source_lang_dict = getSourceLangs()"
   ]
  },
  {
   "cell_type": "code",
   "execution_count": null,
   "metadata": {},
   "outputs": [],
   "source": [
    "zipTranslated = input(\"Name of the Corpus (Translated) zip file (put .zip in name): \")"
   ]
  },
  {
   "cell_type": "code",
   "execution_count": null,
   "metadata": {},
   "outputs": [],
   "source": [
    "# Call all the functions\n",
    "extractFromZIP(zipTranslated)\n",
    "corpus = createCorpus()\n",
    "references = createReferences(corpus)\n",
    "listOfCorpus = createListOfCorpus(corpus)\n",
    "vector = createVector(listOfCorpus)"
   ]
  },
  {
   "cell_type": "code",
   "execution_count": null,
   "metadata": {},
   "outputs": [],
   "source": [
    "# Create mega-corpus and training vector from the mega-corpus\n",
    "megaCorpus = '\\n'.join(listOfCorpus)\n",
    "trainingVector = nlp(megaCorpus)"
   ]
  },
  {
   "cell_type": "code",
   "execution_count": null,
   "metadata": {},
   "outputs": [],
   "source": [
    "# Value of n for n-grams\n",
    "n = 5"
   ]
  },
  {
   "cell_type": "code",
   "execution_count": null,
   "metadata": {},
   "outputs": [],
   "source": [
    "# Call function to train the model\n",
    "model = trainModel(trainingVector,n)"
   ]
  },
  {
   "cell_type": "code",
   "execution_count": null,
   "metadata": {},
   "outputs": [],
   "source": [
    "# Remove original corpus from current folder temporarily\n",
    "removeOriginals()"
   ]
  },
  {
   "cell_type": "code",
   "execution_count": null,
   "metadata": {},
   "outputs": [],
   "source": [
    "zipSuspicious = input(\"Name of the zip file with Suspicious Doc (put .zip in name): \")"
   ]
  },
  {
   "cell_type": "code",
   "execution_count": null,
   "metadata": {},
   "outputs": [],
   "source": [
    "# Extract suspicious document, create test data vector\n",
    "extractFromZIP(zipSuspicious)\n",
    "suspiciousDoc = getSuspiciousDoc()\n",
    "test_data,testVector,suspiciousText = createTestData(suspiciousDoc)"
   ]
  },
  {
   "cell_type": "code",
   "execution_count": null,
   "metadata": {},
   "outputs": [],
   "source": [
    "# Get scores for each token/word in the test data vector\n",
    "score_np = generateScores(model,test_data)\n",
    "# Keeping width = 22 for readability\n",
    "a,sourceLabel,diff = generateData(22,score_np)\n",
    "plagPercentage,plID = getPlagPercentage(a,diff)"
   ]
  },
  {
   "cell_type": "code",
   "execution_count": null,
   "metadata": {},
   "outputs": [],
   "source": [
    "jumpStates = []\n",
    "# If there are no plagiarised sections then jumpStates will be empty\n",
    "if len(plID)!=0:\n",
    "    jumpStates = getJumpStates(plID)"
   ]
  },
  {
   "cell_type": "code",
   "execution_count": null,
   "metadata": {},
   "outputs": [],
   "source": [
    "# Get the mapping of plagiarised sections to source documents\n",
    "plag_dict = getPlagDict(jumpStates,vector,testVector)"
   ]
  },
  {
   "cell_type": "code",
   "execution_count": null,
   "metadata": {},
   "outputs": [],
   "source": [
    "# Generate labels and values for heatmap\n",
    "sourceLabel = populateSourceLabel(plag_dict,sourceLabel,references,22)\n",
    "labels,labels_individual = createLabels(testVector,22,diff)"
   ]
  },
  {
   "cell_type": "code",
   "execution_count": null,
   "metadata": {},
   "outputs": [],
   "source": [
    "# Create all the visualisation techniques\n",
    "height = np.ceil(len(score_np)/22).astype(\"int32\")\n",
    "fig = generateHeatMap(a,sourceLabel,22,height,labels_individual,suspiciousDoc)\n",
    "pieL1,pieVal1 = getPieLabelAndVals_1(plag_dict,plID)\n",
    "pieL2,pieVal2 = getPieLabelAndVals_2(plag_dict,plID,references)\n",
    "df1,df2 = createDataFrames(pieL1,pieL2,pieVal1,pieVal2)\n",
    "figP1,figP2 = createPieCharts(df1,df2)\n",
    "# A Seperate DataFrame for the Suspicious Text\n",
    "data = [[suspiciousDoc,sum(df2['No. of Words']),plagPercentage,\"English\"]]\n",
    "df3 = pd.DataFrame(data,columns=['File Name','No. of Words','Plagiarised Percentage','Language'])"
   ]
  },
  {
   "cell_type": "code",
   "execution_count": null,
   "metadata": {},
   "outputs": [],
   "source": [
    "# Modify the DataFrame for the Suspicious Text to make it clickable\n",
    "def make_clickable(val):\n",
    "        return f'<a target=\"_blank\" href=\"{val}\">{val}</a>'\n",
    "df3 = df3.style.format({'File Name': make_clickable})"
   ]
  },
  {
   "cell_type": "code",
   "execution_count": null,
   "metadata": {},
   "outputs": [],
   "source": [
    "# Re-extract the source documents from the zip file\n",
    "extractFromZIP(zipTranslated)"
   ]
  },
  {
   "cell_type": "markdown",
   "metadata": {},
   "source": [
    "- Below this point, there are 5 ways to visualise/view the Results\n",
    "- The ways are:\n",
    "    - Suspicious Document Heatmap:\n",
    "        - Entire Document broken into block of words\n",
    "        - Plagiarised portions highlighted in varying shades of red\n",
    "        - Hover over any Plagiarised Portion to reveal Original Source Document\n",
    "    - Suspicious Document Textbox:\n",
    "        - View entire Document\n",
    "        - Two buttons Highlight and Exit\n",
    "        - Click on Highlight to highlight plagiarised portions in Red\n",
    "    - Pie Chart 1:\n",
    "        - Displays Overall percentages of Plagiarism\n",
    "    - Pie Chart 2:\n",
    "        - Detailed Percentages of Plagiarism from each source\n",
    "    - Table:\n",
    "        - Table to display all details of Pie Chart 2 in tabular format (and a seperate one to view Suspicious Document)\n",
    "        - Contains a column 'Source Language' to display language of Source Document\n",
    "        - Has Clickable Link in 'Source' column which opens that Document in a seperate tab"
   ]
  },
  {
   "cell_type": "code",
   "execution_count": null,
   "metadata": {},
   "outputs": [
    {
     "data": {
      "application/vnd.plotly.v1+json": {
       "config": {
        "plotlyServerURL": "https://plot.ly"
       },
       "data": [
        {
         "colorscale": [
          [
           0,
           "rgb(255,245,240)"
          ],
          [
           0.125,
           "rgb(254,224,210)"
          ],
          [
           0.25,
           "rgb(252,187,161)"
          ],
          [
           0.375,
           "rgb(252,146,114)"
          ],
          [
           0.5,
           "rgb(251,106,74)"
          ],
          [
           0.625,
           "rgb(239,59,44)"
          ],
          [
           0.75,
           "rgb(203,24,29)"
          ],
          [
           0.875,
           "rgb(165,15,21)"
          ],
          [
           1,
           "rgb(103,0,13)"
          ]
         ],
         "customdata": [
          [
           "Unplagiarised",
           "Unplagiarised",
           "Unplagiarised",
           "Unplagiarised",
           "Unplagiarised",
           "Unplagiarised",
           "Unplagiarised",
           "Unplagiarised",
           "Unplagiarised",
           "Unplagiarised",
           "Unplagiarised",
           "Unplagiarised",
           "Unplagiarised",
           "Unplagiarised",
           "Unplagiarised",
           "Unplagiarised",
           "Unplagiarised",
           "Unplagiarised",
           "Unplagiarised",
           "Unplagiarised",
           "Unplagiarised",
           "Unplagiarised"
          ],
          [
           "Unplagiarised",
           "Unplagiarised",
           "Unplagiarised",
           "Unplagiarised",
           "Unplagiarised",
           "Unplagiarised",
           "Unplagiarised",
           "Unplagiarised",
           "Unplagiarised",
           "Unplagiarised",
           "Unplagiarised",
           "Unplagiarised",
           "Unplagiarised",
           "Unplagiarised",
           "Unplagiarised",
           "Unplagiarised",
           "Unplagiarised",
           "Unplagiarised",
           "Unplagiarised",
           "Unplagiarised",
           "Unplagiarised",
           "Unplagiarised"
          ],
          [
           "Unplagiarised",
           "Unplagiarised",
           "Unplagiarised",
           "Unplagiarised",
           "Unplagiarised",
           "Unplagiarised",
           "Unplagiarised",
           "Unplagiarised",
           "Unplagiarised",
           "Unplagiarised",
           "Unplagiarised",
           "Unplagiarised",
           "Unplagiarised",
           "Unplagiarised",
           "Unplagiarised",
           "Unplagiarised",
           "Unplagiarised",
           "Unplagiarised",
           "Unplagiarised",
           "Unplagiarised",
           "Unplagiarised",
           "Unplagiarised"
          ],
          [
           "Unplagiarised",
           "Unplagiarised",
           "Unplagiarised",
           "Unplagiarised",
           "Unplagiarised",
           "Unplagiarised",
           "Unplagiarised",
           "Unplagiarised",
           "Unplagiarised",
           "Unplagiarised",
           "Unplagiarised",
           "Unplagiarised",
           "Unplagiarised",
           "Unplagiarised",
           "Unplagiarised",
           "Unplagiarised",
           "Unplagiarised",
           "Unplagiarised",
           "Unplagiarised",
           "Unplagiarised",
           "Unplagiarised",
           "Unplagiarised"
          ],
          [
           "Unplagiarised",
           "Unplagiarised",
           "Unplagiarised",
           "Unplagiarised",
           "Unplagiarised",
           "Unplagiarised",
           "Unplagiarised",
           "Unplagiarised",
           "Unplagiarised",
           "Unplagiarised",
           "Unplagiarised",
           "Unplagiarised",
           "Unplagiarised",
           "Unplagiarised",
           "Unplagiarised",
           "Unplagiarised",
           "Unplagiarised",
           "Unplagiarised",
           "Unplagiarised",
           "Unplagiarised",
           "Unplagiarised",
           "Unplagiarised"
          ],
          [
           "Unplagiarised",
           "Unplagiarised",
           "Unplagiarised",
           "Unplagiarised",
           "Unplagiarised",
           "Unplagiarised",
           "Unplagiarised",
           "Unplagiarised",
           "Unplagiarised",
           "Unplagiarised",
           "Unplagiarised",
           "Unplagiarised",
           "Unplagiarised",
           "Unplagiarised",
           "Unplagiarised",
           "Unplagiarised",
           "Unplagiarised",
           "Unplagiarised",
           "Unplagiarised",
           "Unplagiarised",
           "Unplagiarised",
           "Unplagiarised"
          ],
          [
           "Unplagiarised",
           "Unplagiarised",
           "Unplagiarised",
           "Unplagiarised",
           "Unplagiarised",
           "Unplagiarised",
           "Unplagiarised",
           "Unplagiarised",
           "Unplagiarised",
           "Unplagiarised",
           "Unplagiarised",
           "Unplagiarised",
           "Unplagiarised",
           "Unplagiarised",
           "Unplagiarised",
           "The Nuclear Mirage.pdf",
           "The Nuclear Mirage.pdf",
           "The Nuclear Mirage.pdf",
           "The Nuclear Mirage.pdf",
           "The Nuclear Mirage.pdf",
           "The Nuclear Mirage.pdf",
           "The Nuclear Mirage.pdf"
          ],
          [
           "The Nuclear Mirage.pdf",
           "The Nuclear Mirage.pdf",
           "The Nuclear Mirage.pdf",
           "The Nuclear Mirage.pdf",
           "The Nuclear Mirage.pdf",
           "The Nuclear Mirage.pdf",
           "The Nuclear Mirage.pdf",
           "The Nuclear Mirage.pdf",
           "The Nuclear Mirage.pdf",
           "The Nuclear Mirage.pdf",
           "The Nuclear Mirage.pdf",
           "The Nuclear Mirage.pdf",
           "The Nuclear Mirage.pdf",
           "The Nuclear Mirage.pdf",
           "The Nuclear Mirage.pdf",
           "The Nuclear Mirage.pdf",
           "The Nuclear Mirage.pdf",
           "The Nuclear Mirage.pdf",
           "The Nuclear Mirage.pdf",
           "The Nuclear Mirage.pdf",
           "The Nuclear Mirage.pdf",
           "The Nuclear Mirage.pdf"
          ],
          [
           "The Nuclear Mirage.pdf",
           "The Nuclear Mirage.pdf",
           "The Nuclear Mirage.pdf",
           "The Nuclear Mirage.pdf",
           "The Nuclear Mirage.pdf",
           "The Nuclear Mirage.pdf",
           "The Nuclear Mirage.pdf",
           "The Nuclear Mirage.pdf",
           "The Nuclear Mirage.pdf",
           "The Nuclear Mirage.pdf",
           "The Nuclear Mirage.pdf",
           "The Nuclear Mirage.pdf",
           "The Nuclear Mirage.pdf",
           "The Nuclear Mirage.pdf",
           "The Nuclear Mirage.pdf",
           "The Nuclear Mirage.pdf",
           "The Nuclear Mirage.pdf",
           "The Nuclear Mirage.pdf",
           "The Nuclear Mirage.pdf",
           "The Nuclear Mirage.pdf",
           "The Nuclear Mirage.pdf",
           "The Nuclear Mirage.pdf"
          ],
          [
           "The Nuclear Mirage.pdf",
           "The Nuclear Mirage.pdf",
           "The Nuclear Mirage.pdf",
           "The Nuclear Mirage.pdf",
           "The Nuclear Mirage.pdf",
           "The Nuclear Mirage.pdf",
           "The Nuclear Mirage.pdf",
           "The Nuclear Mirage.pdf",
           "The Nuclear Mirage.pdf",
           "The Nuclear Mirage.pdf",
           "The Nuclear Mirage.pdf",
           "The Nuclear Mirage.pdf",
           "The Nuclear Mirage.pdf",
           "The Nuclear Mirage.pdf",
           "The Nuclear Mirage.pdf",
           "The Nuclear Mirage.pdf",
           "The Nuclear Mirage.pdf",
           "The Nuclear Mirage.pdf",
           "The Nuclear Mirage.pdf",
           "The Nuclear Mirage.pdf",
           "The Nuclear Mirage.pdf",
           "The Nuclear Mirage.pdf"
          ],
          [
           "The Nuclear Mirage.pdf",
           "The Nuclear Mirage.pdf",
           "The Nuclear Mirage.pdf",
           "The Nuclear Mirage.pdf",
           "The Nuclear Mirage.pdf",
           "The Nuclear Mirage.pdf",
           "The Nuclear Mirage.pdf",
           "The Nuclear Mirage.pdf",
           "The Nuclear Mirage.pdf",
           "The Nuclear Mirage.pdf",
           "The Nuclear Mirage.pdf",
           "The Nuclear Mirage.pdf",
           "The Nuclear Mirage.pdf",
           "The Nuclear Mirage.pdf",
           "The Nuclear Mirage.pdf",
           "The Nuclear Mirage.pdf",
           "The Nuclear Mirage.pdf",
           "The Nuclear Mirage.pdf",
           "The Nuclear Mirage.pdf",
           "The Nuclear Mirage.pdf",
           "The Nuclear Mirage.pdf",
           "The Nuclear Mirage.pdf"
          ],
          [
           "The Nuclear Mirage.pdf",
           "The Nuclear Mirage.pdf",
           "The Nuclear Mirage.pdf",
           "The Nuclear Mirage.pdf",
           "The Nuclear Mirage.pdf",
           "The Nuclear Mirage.pdf",
           "The Nuclear Mirage.pdf",
           "The Nuclear Mirage.pdf",
           "The Nuclear Mirage.pdf",
           "The Nuclear Mirage.pdf",
           "The Nuclear Mirage.pdf",
           "The Nuclear Mirage.pdf",
           "The Nuclear Mirage.pdf",
           "The Nuclear Mirage.pdf",
           "The Nuclear Mirage.pdf",
           "The Nuclear Mirage.pdf",
           "The Nuclear Mirage.pdf",
           "The Nuclear Mirage.pdf",
           "The Nuclear Mirage.pdf",
           "The Nuclear Mirage.pdf",
           "The Nuclear Mirage.pdf",
           "The Nuclear Mirage.pdf"
          ],
          [
           "The Nuclear Mirage.pdf",
           "The Nuclear Mirage.pdf",
           "The Nuclear Mirage.pdf",
           "The Nuclear Mirage.pdf",
           "The Nuclear Mirage.pdf",
           "The Nuclear Mirage.pdf",
           "The Nuclear Mirage.pdf",
           "The Nuclear Mirage.pdf",
           "The Nuclear Mirage.pdf",
           "The Nuclear Mirage.pdf",
           "The Nuclear Mirage.pdf",
           "The Nuclear Mirage.pdf",
           "The Nuclear Mirage.pdf",
           "The Nuclear Mirage.pdf",
           "The Nuclear Mirage.pdf",
           "The Nuclear Mirage.pdf",
           "The Nuclear Mirage.pdf",
           "The Nuclear Mirage.pdf",
           "The Nuclear Mirage.pdf",
           "The Nuclear Mirage.pdf",
           "The Nuclear Mirage.pdf",
           "The Nuclear Mirage.pdf"
          ],
          [
           "The Nuclear Mirage.pdf",
           "The Nuclear Mirage.pdf",
           "The Nuclear Mirage.pdf",
           "The Nuclear Mirage.pdf",
           "The Nuclear Mirage.pdf",
           "The Nuclear Mirage.pdf",
           "The Nuclear Mirage.pdf",
           "The Nuclear Mirage.pdf",
           "The Nuclear Mirage.pdf",
           "The Nuclear Mirage.pdf",
           "The Nuclear Mirage.pdf",
           "The Nuclear Mirage.pdf",
           "The Nuclear Mirage.pdf",
           "The Nuclear Mirage.pdf",
           "The Nuclear Mirage.pdf",
           "The Nuclear Mirage.pdf",
           "The Nuclear Mirage.pdf",
           "The Nuclear Mirage.pdf",
           "The Nuclear Mirage.pdf",
           "The Nuclear Mirage.pdf",
           "The Nuclear Mirage.pdf",
           "The Nuclear Mirage.pdf"
          ],
          [
           "The Nuclear Mirage.pdf",
           "The Nuclear Mirage.pdf",
           "The Nuclear Mirage.pdf",
           "The Nuclear Mirage.pdf",
           "The Nuclear Mirage.pdf",
           "The Nuclear Mirage.pdf",
           "The Nuclear Mirage.pdf",
           "The Nuclear Mirage.pdf",
           "The Nuclear Mirage.pdf",
           "The Nuclear Mirage.pdf",
           "The Nuclear Mirage.pdf",
           "The Nuclear Mirage.pdf",
           "The Nuclear Mirage.pdf",
           "The Nuclear Mirage.pdf",
           "The Nuclear Mirage.pdf",
           "The Nuclear Mirage.pdf",
           "The Nuclear Mirage.pdf",
           "The Nuclear Mirage.pdf",
           "The Nuclear Mirage.pdf",
           "The Nuclear Mirage.pdf",
           "The Nuclear Mirage.pdf",
           "The Nuclear Mirage.pdf"
          ],
          [
           "The Nuclear Mirage.pdf",
           "The Nuclear Mirage.pdf",
           "The Nuclear Mirage.pdf",
           "The Nuclear Mirage.pdf",
           "The Nuclear Mirage.pdf",
           "The Nuclear Mirage.pdf",
           "The Nuclear Mirage.pdf",
           "The Nuclear Mirage.pdf",
           "The Nuclear Mirage.pdf",
           "The Nuclear Mirage.pdf",
           "The Nuclear Mirage.pdf",
           "The Nuclear Mirage.pdf",
           "The Nuclear Mirage.pdf",
           "The Nuclear Mirage.pdf",
           "The Nuclear Mirage.pdf",
           "The Nuclear Mirage.pdf",
           "The Nuclear Mirage.pdf",
           "The Nuclear Mirage.pdf",
           "The Nuclear Mirage.pdf",
           "The Nuclear Mirage.pdf",
           "The Nuclear Mirage.pdf",
           "The Nuclear Mirage.pdf"
          ],
          [
           "The Nuclear Mirage.pdf",
           "The Nuclear Mirage.pdf",
           "The Nuclear Mirage.pdf",
           "The Nuclear Mirage.pdf",
           "The Nuclear Mirage.pdf",
           "The Nuclear Mirage.pdf",
           "The Nuclear Mirage.pdf",
           "The Nuclear Mirage.pdf",
           "The Nuclear Mirage.pdf",
           "The Nuclear Mirage.pdf",
           "The Nuclear Mirage.pdf",
           "The Nuclear Mirage.pdf",
           "The Nuclear Mirage.pdf",
           "The Nuclear Mirage.pdf",
           "The Nuclear Mirage.pdf",
           "The Nuclear Mirage.pdf",
           "The Nuclear Mirage.pdf",
           "The Nuclear Mirage.pdf",
           "The Nuclear Mirage.pdf",
           "The Nuclear Mirage.pdf",
           "The Nuclear Mirage.pdf",
           "The Nuclear Mirage.pdf"
          ],
          [
           "The Nuclear Mirage.pdf",
           "Unplagiarised",
           "Unplagiarised",
           "Unplagiarised",
           "Unplagiarised",
           "Unplagiarised",
           "Unplagiarised",
           "Unplagiarised",
           "Unplagiarised",
           "Unplagiarised",
           "Unplagiarised",
           "Unplagiarised",
           "Unplagiarised",
           "Unplagiarised",
           "Unplagiarised",
           "Unplagiarised",
           "Unplagiarised",
           "Unplagiarised",
           "Unplagiarised",
           "Unplagiarised",
           "Unplagiarised",
           "Unplagiarised"
          ],
          [
           "Unplagiarised",
           "Unplagiarised",
           "Unplagiarised",
           "Unplagiarised",
           "Unplagiarised",
           "Unplagiarised",
           "Unplagiarised",
           "Unplagiarised",
           "Unplagiarised",
           "Unplagiarised",
           "Unplagiarised",
           "Unplagiarised",
           "Unplagiarised",
           "Unplagiarised",
           "Unplagiarised",
           "Unplagiarised",
           "Unplagiarised",
           "Unplagiarised",
           "Unplagiarised",
           "Unplagiarised",
           "Unplagiarised",
           "Unplagiarised"
          ],
          [
           "Unplagiarised",
           "Unplagiarised",
           "Unplagiarised",
           "Unplagiarised",
           "Unplagiarised",
           "Unplagiarised",
           "Unplagiarised",
           "Unplagiarised",
           "Unplagiarised",
           "Unplagiarised",
           "Unplagiarised",
           "Unplagiarised",
           "Unplagiarised",
           "Unplagiarised",
           "Unplagiarised",
           "Unplagiarised",
           "Unplagiarised",
           "Unplagiarised",
           "Unplagiarised",
           "Unplagiarised",
           "Unplagiarised",
           "Unplagiarised"
          ],
          [
           "Unplagiarised",
           "Unplagiarised",
           "Unplagiarised",
           "Unplagiarised",
           "Unplagiarised",
           "Unplagiarised",
           "Unplagiarised",
           "Unplagiarised",
           "Unplagiarised",
           "Unplagiarised",
           "Unplagiarised",
           "Unplagiarised",
           "Unplagiarised",
           "Unplagiarised",
           "Unplagiarised",
           "Unplagiarised",
           "Unplagiarised",
           "Unplagiarised",
           "Unplagiarised",
           "Unplagiarised",
           "Unplagiarised",
           "Unplagiarised"
          ],
          [
           "Unplagiarised",
           "Unplagiarised",
           "Unplagiarised",
           "Unplagiarised",
           "Unplagiarised",
           "Unplagiarised",
           "Unplagiarised",
           "Unplagiarised",
           "Unplagiarised",
           "Unplagiarised",
           "Unplagiarised",
           "Unplagiarised",
           "Unplagiarised",
           "Unplagiarised",
           "Is it possible to develop quantum computing in Venezuela.pdf",
           "Is it possible to develop quantum computing in Venezuela.pdf",
           "Is it possible to develop quantum computing in Venezuela.pdf",
           "Is it possible to develop quantum computing in Venezuela.pdf",
           "Is it possible to develop quantum computing in Venezuela.pdf",
           "Is it possible to develop quantum computing in Venezuela.pdf",
           "Is it possible to develop quantum computing in Venezuela.pdf",
           "Is it possible to develop quantum computing in Venezuela.pdf"
          ],
          [
           "Is it possible to develop quantum computing in Venezuela.pdf",
           "Is it possible to develop quantum computing in Venezuela.pdf",
           "Is it possible to develop quantum computing in Venezuela.pdf",
           "Is it possible to develop quantum computing in Venezuela.pdf",
           "Is it possible to develop quantum computing in Venezuela.pdf",
           "Is it possible to develop quantum computing in Venezuela.pdf",
           "Is it possible to develop quantum computing in Venezuela.pdf",
           "Is it possible to develop quantum computing in Venezuela.pdf",
           "Is it possible to develop quantum computing in Venezuela.pdf",
           "Is it possible to develop quantum computing in Venezuela.pdf",
           "Is it possible to develop quantum computing in Venezuela.pdf",
           "Is it possible to develop quantum computing in Venezuela.pdf",
           "Is it possible to develop quantum computing in Venezuela.pdf",
           "Is it possible to develop quantum computing in Venezuela.pdf",
           "Is it possible to develop quantum computing in Venezuela.pdf",
           "Is it possible to develop quantum computing in Venezuela.pdf",
           "Is it possible to develop quantum computing in Venezuela.pdf",
           "Is it possible to develop quantum computing in Venezuela.pdf",
           "Is it possible to develop quantum computing in Venezuela.pdf",
           "Is it possible to develop quantum computing in Venezuela.pdf",
           "Is it possible to develop quantum computing in Venezuela.pdf",
           "Is it possible to develop quantum computing in Venezuela.pdf"
          ],
          [
           "Is it possible to develop quantum computing in Venezuela.pdf",
           "Is it possible to develop quantum computing in Venezuela.pdf",
           "Is it possible to develop quantum computing in Venezuela.pdf",
           "Is it possible to develop quantum computing in Venezuela.pdf",
           "Is it possible to develop quantum computing in Venezuela.pdf",
           "Is it possible to develop quantum computing in Venezuela.pdf",
           "Is it possible to develop quantum computing in Venezuela.pdf",
           "Is it possible to develop quantum computing in Venezuela.pdf",
           "Is it possible to develop quantum computing in Venezuela.pdf",
           "Is it possible to develop quantum computing in Venezuela.pdf",
           "Is it possible to develop quantum computing in Venezuela.pdf",
           "Is it possible to develop quantum computing in Venezuela.pdf",
           "Is it possible to develop quantum computing in Venezuela.pdf",
           "Is it possible to develop quantum computing in Venezuela.pdf",
           "Is it possible to develop quantum computing in Venezuela.pdf",
           "Is it possible to develop quantum computing in Venezuela.pdf",
           "Is it possible to develop quantum computing in Venezuela.pdf",
           "Is it possible to develop quantum computing in Venezuela.pdf",
           "Is it possible to develop quantum computing in Venezuela.pdf",
           "Is it possible to develop quantum computing in Venezuela.pdf",
           "Is it possible to develop quantum computing in Venezuela.pdf",
           "Is it possible to develop quantum computing in Venezuela.pdf"
          ],
          [
           "Is it possible to develop quantum computing in Venezuela.pdf",
           "Is it possible to develop quantum computing in Venezuela.pdf",
           "Is it possible to develop quantum computing in Venezuela.pdf",
           "Is it possible to develop quantum computing in Venezuela.pdf",
           "Is it possible to develop quantum computing in Venezuela.pdf",
           "Is it possible to develop quantum computing in Venezuela.pdf",
           "Is it possible to develop quantum computing in Venezuela.pdf",
           "Is it possible to develop quantum computing in Venezuela.pdf",
           "Is it possible to develop quantum computing in Venezuela.pdf",
           "Is it possible to develop quantum computing in Venezuela.pdf",
           "Is it possible to develop quantum computing in Venezuela.pdf",
           "Is it possible to develop quantum computing in Venezuela.pdf",
           "Is it possible to develop quantum computing in Venezuela.pdf",
           "Is it possible to develop quantum computing in Venezuela.pdf",
           "Is it possible to develop quantum computing in Venezuela.pdf",
           "Is it possible to develop quantum computing in Venezuela.pdf",
           "Is it possible to develop quantum computing in Venezuela.pdf",
           "Is it possible to develop quantum computing in Venezuela.pdf",
           "Is it possible to develop quantum computing in Venezuela.pdf",
           "Is it possible to develop quantum computing in Venezuela.pdf",
           "Is it possible to develop quantum computing in Venezuela.pdf",
           "Is it possible to develop quantum computing in Venezuela.pdf"
          ],
          [
           "Is it possible to develop quantum computing in Venezuela.pdf",
           "Is it possible to develop quantum computing in Venezuela.pdf",
           "Is it possible to develop quantum computing in Venezuela.pdf",
           "Is it possible to develop quantum computing in Venezuela.pdf",
           "Is it possible to develop quantum computing in Venezuela.pdf",
           "Is it possible to develop quantum computing in Venezuela.pdf",
           "Is it possible to develop quantum computing in Venezuela.pdf",
           "Is it possible to develop quantum computing in Venezuela.pdf",
           "Is it possible to develop quantum computing in Venezuela.pdf",
           "Is it possible to develop quantum computing in Venezuela.pdf",
           "Is it possible to develop quantum computing in Venezuela.pdf",
           "Is it possible to develop quantum computing in Venezuela.pdf",
           "Is it possible to develop quantum computing in Venezuela.pdf",
           "Is it possible to develop quantum computing in Venezuela.pdf",
           "Is it possible to develop quantum computing in Venezuela.pdf",
           "Is it possible to develop quantum computing in Venezuela.pdf",
           "Is it possible to develop quantum computing in Venezuela.pdf",
           "Is it possible to develop quantum computing in Venezuela.pdf",
           "Is it possible to develop quantum computing in Venezuela.pdf",
           "Is it possible to develop quantum computing in Venezuela.pdf",
           "Is it possible to develop quantum computing in Venezuela.pdf",
           "Is it possible to develop quantum computing in Venezuela.pdf"
          ],
          [
           "Is it possible to develop quantum computing in Venezuela.pdf",
           "Is it possible to develop quantum computing in Venezuela.pdf",
           "Is it possible to develop quantum computing in Venezuela.pdf",
           "Is it possible to develop quantum computing in Venezuela.pdf",
           "Is it possible to develop quantum computing in Venezuela.pdf",
           "Is it possible to develop quantum computing in Venezuela.pdf",
           "Is it possible to develop quantum computing in Venezuela.pdf",
           "Is it possible to develop quantum computing in Venezuela.pdf",
           "Is it possible to develop quantum computing in Venezuela.pdf",
           "Is it possible to develop quantum computing in Venezuela.pdf",
           "Is it possible to develop quantum computing in Venezuela.pdf",
           "Is it possible to develop quantum computing in Venezuela.pdf",
           "Is it possible to develop quantum computing in Venezuela.pdf",
           "Is it possible to develop quantum computing in Venezuela.pdf",
           "Is it possible to develop quantum computing in Venezuela.pdf",
           "Is it possible to develop quantum computing in Venezuela.pdf",
           "Is it possible to develop quantum computing in Venezuela.pdf",
           "Is it possible to develop quantum computing in Venezuela.pdf",
           "Is it possible to develop quantum computing in Venezuela.pdf",
           "Is it possible to develop quantum computing in Venezuela.pdf",
           "Is it possible to develop quantum computing in Venezuela.pdf",
           "Is it possible to develop quantum computing in Venezuela.pdf"
          ],
          [
           "Is it possible to develop quantum computing in Venezuela.pdf",
           "Is it possible to develop quantum computing in Venezuela.pdf",
           "Is it possible to develop quantum computing in Venezuela.pdf",
           "Is it possible to develop quantum computing in Venezuela.pdf",
           "Is it possible to develop quantum computing in Venezuela.pdf",
           "Is it possible to develop quantum computing in Venezuela.pdf",
           "Is it possible to develop quantum computing in Venezuela.pdf",
           "Is it possible to develop quantum computing in Venezuela.pdf",
           "Is it possible to develop quantum computing in Venezuela.pdf",
           "Is it possible to develop quantum computing in Venezuela.pdf",
           "Is it possible to develop quantum computing in Venezuela.pdf",
           "Is it possible to develop quantum computing in Venezuela.pdf",
           "Is it possible to develop quantum computing in Venezuela.pdf",
           "Is it possible to develop quantum computing in Venezuela.pdf",
           "Is it possible to develop quantum computing in Venezuela.pdf",
           "Is it possible to develop quantum computing in Venezuela.pdf",
           "Is it possible to develop quantum computing in Venezuela.pdf",
           "Is it possible to develop quantum computing in Venezuela.pdf",
           "Is it possible to develop quantum computing in Venezuela.pdf",
           "Is it possible to develop quantum computing in Venezuela.pdf",
           "Is it possible to develop quantum computing in Venezuela.pdf",
           "Is it possible to develop quantum computing in Venezuela.pdf"
          ],
          [
           "Is it possible to develop quantum computing in Venezuela.pdf",
           "Is it possible to develop quantum computing in Venezuela.pdf",
           "Is it possible to develop quantum computing in Venezuela.pdf",
           "Is it possible to develop quantum computing in Venezuela.pdf",
           "Is it possible to develop quantum computing in Venezuela.pdf",
           "Is it possible to develop quantum computing in Venezuela.pdf",
           "Is it possible to develop quantum computing in Venezuela.pdf",
           "Is it possible to develop quantum computing in Venezuela.pdf",
           "Is it possible to develop quantum computing in Venezuela.pdf",
           "Is it possible to develop quantum computing in Venezuela.pdf",
           "Is it possible to develop quantum computing in Venezuela.pdf",
           "Is it possible to develop quantum computing in Venezuela.pdf",
           "Is it possible to develop quantum computing in Venezuela.pdf",
           "Is it possible to develop quantum computing in Venezuela.pdf",
           "Is it possible to develop quantum computing in Venezuela.pdf",
           "Is it possible to develop quantum computing in Venezuela.pdf",
           "Is it possible to develop quantum computing in Venezuela.pdf",
           "Is it possible to develop quantum computing in Venezuela.pdf",
           "Is it possible to develop quantum computing in Venezuela.pdf",
           "Is it possible to develop quantum computing in Venezuela.pdf",
           "Is it possible to develop quantum computing in Venezuela.pdf",
           "Is it possible to develop quantum computing in Venezuela.pdf"
          ],
          [
           "Is it possible to develop quantum computing in Venezuela.pdf",
           "Is it possible to develop quantum computing in Venezuela.pdf",
           "Is it possible to develop quantum computing in Venezuela.pdf",
           "Is it possible to develop quantum computing in Venezuela.pdf",
           "Is it possible to develop quantum computing in Venezuela.pdf",
           "Is it possible to develop quantum computing in Venezuela.pdf",
           "Is it possible to develop quantum computing in Venezuela.pdf",
           "Is it possible to develop quantum computing in Venezuela.pdf",
           "Is it possible to develop quantum computing in Venezuela.pdf",
           "Is it possible to develop quantum computing in Venezuela.pdf",
           "Is it possible to develop quantum computing in Venezuela.pdf",
           "Is it possible to develop quantum computing in Venezuela.pdf",
           "Is it possible to develop quantum computing in Venezuela.pdf",
           "Is it possible to develop quantum computing in Venezuela.pdf",
           "Is it possible to develop quantum computing in Venezuela.pdf",
           "Is it possible to develop quantum computing in Venezuela.pdf",
           "Is it possible to develop quantum computing in Venezuela.pdf",
           "Is it possible to develop quantum computing in Venezuela.pdf",
           "Is it possible to develop quantum computing in Venezuela.pdf",
           "Is it possible to develop quantum computing in Venezuela.pdf",
           "Is it possible to develop quantum computing in Venezuela.pdf",
           "Is it possible to develop quantum computing in Venezuela.pdf"
          ],
          [
           "Is it possible to develop quantum computing in Venezuela.pdf",
           "Is it possible to develop quantum computing in Venezuela.pdf",
           "Is it possible to develop quantum computing in Venezuela.pdf",
           "Is it possible to develop quantum computing in Venezuela.pdf",
           "Is it possible to develop quantum computing in Venezuela.pdf",
           "Is it possible to develop quantum computing in Venezuela.pdf",
           "Is it possible to develop quantum computing in Venezuela.pdf",
           "Is it possible to develop quantum computing in Venezuela.pdf",
           "Is it possible to develop quantum computing in Venezuela.pdf",
           "Is it possible to develop quantum computing in Venezuela.pdf",
           "Is it possible to develop quantum computing in Venezuela.pdf",
           "Is it possible to develop quantum computing in Venezuela.pdf",
           "Is it possible to develop quantum computing in Venezuela.pdf",
           "Is it possible to develop quantum computing in Venezuela.pdf",
           "Is it possible to develop quantum computing in Venezuela.pdf",
           "Is it possible to develop quantum computing in Venezuela.pdf",
           "Is it possible to develop quantum computing in Venezuela.pdf",
           "Is it possible to develop quantum computing in Venezuela.pdf",
           "Is it possible to develop quantum computing in Venezuela.pdf",
           "Is it possible to develop quantum computing in Venezuela.pdf",
           "Is it possible to develop quantum computing in Venezuela.pdf",
           "Is it possible to develop quantum computing in Venezuela.pdf"
          ],
          [
           "Is it possible to develop quantum computing in Venezuela.pdf",
           "Unplagiarised",
           "Unplagiarised",
           "Unplagiarised",
           "Unplagiarised",
           "Unplagiarised",
           "Unplagiarised",
           "Unplagiarised",
           "Unplagiarised",
           "Unplagiarised",
           "Unplagiarised",
           "Unplagiarised",
           "Unplagiarised",
           "Unplagiarised",
           "Unplagiarised",
           "Unplagiarised",
           "Unplagiarised",
           "Unplagiarised",
           "Unplagiarised",
           "Unplagiarised",
           "Unplagiarised",
           "Unplagiarised"
          ],
          [
           "Unplagiarised",
           "Unplagiarised",
           "Unplagiarised",
           "Unplagiarised",
           "Unplagiarised",
           "Unplagiarised",
           "Unplagiarised",
           "Unplagiarised",
           "Unplagiarised",
           "Unplagiarised",
           "Unplagiarised",
           "Unplagiarised",
           "Unplagiarised",
           "Unplagiarised",
           "Unplagiarised",
           "Unplagiarised",
           "Unplagiarised",
           "Unplagiarised",
           "Unplagiarised",
           "Unplagiarised",
           "Unplagiarised",
           "Unplagiarised"
          ],
          [
           "Unplagiarised",
           "Unplagiarised",
           "Unplagiarised",
           "Unplagiarised",
           "Unplagiarised",
           "Unplagiarised",
           "Unplagiarised",
           "Unplagiarised",
           "Unplagiarised",
           "Unplagiarised",
           "Unplagiarised",
           "Unplagiarised",
           "Unplagiarised",
           "Unplagiarised",
           "Unplagiarised",
           "Unplagiarised",
           "Unplagiarised",
           "Unplagiarised",
           "Unplagiarised",
           "Unplagiarised",
           "Unplagiarised",
           "Unplagiarised"
          ],
          [
           "Unplagiarised",
           "Unplagiarised",
           "Unplagiarised",
           "Unplagiarised",
           "Unplagiarised",
           "Unplagiarised",
           "Unplagiarised",
           "Unplagiarised",
           "Unplagiarised",
           "Unplagiarised",
           "Unplagiarised",
           "Unplagiarised",
           "Unplagiarised",
           "Unplagiarised",
           "Unplagiarised",
           "Unplagiarised",
           "Unplagiarised",
           "Unplagiarised",
           "Unplagiarised",
           "Unplagiarised",
           "Unplagiarised",
           "Unplagiarised"
          ],
          [
           "Unplagiarised",
           "Unplagiarised",
           "Unplagiarised",
           "Unplagiarised",
           "Unplagiarised",
           "Unplagiarised",
           "Unplagiarised",
           "Unplagiarised",
           "Unplagiarised",
           "Unplagiarised",
           "Unplagiarised",
           "Unplagiarised",
           "Unplagiarised",
           "Unplagiarised",
           "Unplagiarised",
           "Unplagiarised",
           "Unplagiarised",
           "Unplagiarised",
           "Unplagiarised",
           "Unplagiarised",
           "Unplagiarised",
           "Unplagiarised"
          ],
          [
           "Unplagiarised",
           "Unplagiarised",
           "Unplagiarised",
           "Unplagiarised",
           "Unplagiarised",
           "Unplagiarised",
           "Unplagiarised",
           "Unplagiarised",
           "Unplagiarised",
           "Unplagiarised",
           "Unplagiarised",
           "Unplagiarised",
           "Unplagiarised",
           "Unplagiarised",
           "Unplagiarised",
           "Unplagiarised",
           "Unplagiarised",
           "Unplagiarised",
           "Unplagiarised",
           "Applications of neural networks and deep learning to biomedical engineering.pdf",
           "Applications of neural networks and deep learning to biomedical engineering.pdf",
           "Applications of neural networks and deep learning to biomedical engineering.pdf"
          ],
          [
           "Applications of neural networks and deep learning to biomedical engineering.pdf",
           "Applications of neural networks and deep learning to biomedical engineering.pdf",
           "Applications of neural networks and deep learning to biomedical engineering.pdf",
           "Applications of neural networks and deep learning to biomedical engineering.pdf",
           "Applications of neural networks and deep learning to biomedical engineering.pdf",
           "Applications of neural networks and deep learning to biomedical engineering.pdf",
           "Applications of neural networks and deep learning to biomedical engineering.pdf",
           "Applications of neural networks and deep learning to biomedical engineering.pdf",
           "Applications of neural networks and deep learning to biomedical engineering.pdf",
           "Applications of neural networks and deep learning to biomedical engineering.pdf",
           "Applications of neural networks and deep learning to biomedical engineering.pdf",
           "Applications of neural networks and deep learning to biomedical engineering.pdf",
           "Applications of neural networks and deep learning to biomedical engineering.pdf",
           "Applications of neural networks and deep learning to biomedical engineering.pdf",
           "Applications of neural networks and deep learning to biomedical engineering.pdf",
           "Applications of neural networks and deep learning to biomedical engineering.pdf",
           "Applications of neural networks and deep learning to biomedical engineering.pdf",
           "Applications of neural networks and deep learning to biomedical engineering.pdf",
           "Applications of neural networks and deep learning to biomedical engineering.pdf",
           "Applications of neural networks and deep learning to biomedical engineering.pdf",
           "Applications of neural networks and deep learning to biomedical engineering.pdf",
           "Applications of neural networks and deep learning to biomedical engineering.pdf"
          ],
          [
           "Applications of neural networks and deep learning to biomedical engineering.pdf",
           "Applications of neural networks and deep learning to biomedical engineering.pdf",
           "Applications of neural networks and deep learning to biomedical engineering.pdf",
           "Applications of neural networks and deep learning to biomedical engineering.pdf",
           "Applications of neural networks and deep learning to biomedical engineering.pdf",
           "Applications of neural networks and deep learning to biomedical engineering.pdf",
           "Applications of neural networks and deep learning to biomedical engineering.pdf",
           "Applications of neural networks and deep learning to biomedical engineering.pdf",
           "Applications of neural networks and deep learning to biomedical engineering.pdf",
           "Applications of neural networks and deep learning to biomedical engineering.pdf",
           "Applications of neural networks and deep learning to biomedical engineering.pdf",
           "Applications of neural networks and deep learning to biomedical engineering.pdf",
           "Applications of neural networks and deep learning to biomedical engineering.pdf",
           "Applications of neural networks and deep learning to biomedical engineering.pdf",
           "Applications of neural networks and deep learning to biomedical engineering.pdf",
           "Applications of neural networks and deep learning to biomedical engineering.pdf",
           "Applications of neural networks and deep learning to biomedical engineering.pdf",
           "Applications of neural networks and deep learning to biomedical engineering.pdf",
           "Applications of neural networks and deep learning to biomedical engineering.pdf",
           "Applications of neural networks and deep learning to biomedical engineering.pdf",
           "Applications of neural networks and deep learning to biomedical engineering.pdf",
           "Applications of neural networks and deep learning to biomedical engineering.pdf"
          ],
          [
           "Applications of neural networks and deep learning to biomedical engineering.pdf",
           "Applications of neural networks and deep learning to biomedical engineering.pdf",
           "Applications of neural networks and deep learning to biomedical engineering.pdf",
           "Applications of neural networks and deep learning to biomedical engineering.pdf",
           "Applications of neural networks and deep learning to biomedical engineering.pdf",
           "Applications of neural networks and deep learning to biomedical engineering.pdf",
           "Applications of neural networks and deep learning to biomedical engineering.pdf",
           "Applications of neural networks and deep learning to biomedical engineering.pdf",
           "Applications of neural networks and deep learning to biomedical engineering.pdf",
           "Applications of neural networks and deep learning to biomedical engineering.pdf",
           "Applications of neural networks and deep learning to biomedical engineering.pdf",
           "Applications of neural networks and deep learning to biomedical engineering.pdf",
           "Applications of neural networks and deep learning to biomedical engineering.pdf",
           "Applications of neural networks and deep learning to biomedical engineering.pdf",
           "Applications of neural networks and deep learning to biomedical engineering.pdf",
           "Applications of neural networks and deep learning to biomedical engineering.pdf",
           "Applications of neural networks and deep learning to biomedical engineering.pdf",
           "Applications of neural networks and deep learning to biomedical engineering.pdf",
           "Applications of neural networks and deep learning to biomedical engineering.pdf",
           "Applications of neural networks and deep learning to biomedical engineering.pdf",
           "Applications of neural networks and deep learning to biomedical engineering.pdf",
           "Applications of neural networks and deep learning to biomedical engineering.pdf"
          ],
          [
           "Applications of neural networks and deep learning to biomedical engineering.pdf",
           "Applications of neural networks and deep learning to biomedical engineering.pdf",
           "Applications of neural networks and deep learning to biomedical engineering.pdf",
           "Applications of neural networks and deep learning to biomedical engineering.pdf",
           "Applications of neural networks and deep learning to biomedical engineering.pdf",
           "Applications of neural networks and deep learning to biomedical engineering.pdf",
           "Applications of neural networks and deep learning to biomedical engineering.pdf",
           "Applications of neural networks and deep learning to biomedical engineering.pdf",
           "Applications of neural networks and deep learning to biomedical engineering.pdf",
           "Applications of neural networks and deep learning to biomedical engineering.pdf",
           "Applications of neural networks and deep learning to biomedical engineering.pdf",
           "Applications of neural networks and deep learning to biomedical engineering.pdf",
           "Applications of neural networks and deep learning to biomedical engineering.pdf",
           "Applications of neural networks and deep learning to biomedical engineering.pdf",
           "Applications of neural networks and deep learning to biomedical engineering.pdf",
           "Applications of neural networks and deep learning to biomedical engineering.pdf",
           "Applications of neural networks and deep learning to biomedical engineering.pdf",
           "Applications of neural networks and deep learning to biomedical engineering.pdf",
           "Applications of neural networks and deep learning to biomedical engineering.pdf",
           "Applications of neural networks and deep learning to biomedical engineering.pdf",
           "Applications of neural networks and deep learning to biomedical engineering.pdf",
           "Applications of neural networks and deep learning to biomedical engineering.pdf"
          ],
          [
           "Applications of neural networks and deep learning to biomedical engineering.pdf",
           "Applications of neural networks and deep learning to biomedical engineering.pdf",
           "Applications of neural networks and deep learning to biomedical engineering.pdf",
           "Applications of neural networks and deep learning to biomedical engineering.pdf",
           "Applications of neural networks and deep learning to biomedical engineering.pdf",
           "Applications of neural networks and deep learning to biomedical engineering.pdf",
           "Applications of neural networks and deep learning to biomedical engineering.pdf",
           "Applications of neural networks and deep learning to biomedical engineering.pdf",
           "Applications of neural networks and deep learning to biomedical engineering.pdf",
           "Applications of neural networks and deep learning to biomedical engineering.pdf",
           "Applications of neural networks and deep learning to biomedical engineering.pdf",
           "Applications of neural networks and deep learning to biomedical engineering.pdf",
           "Applications of neural networks and deep learning to biomedical engineering.pdf",
           "Applications of neural networks and deep learning to biomedical engineering.pdf",
           "Applications of neural networks and deep learning to biomedical engineering.pdf",
           "Applications of neural networks and deep learning to biomedical engineering.pdf",
           "Applications of neural networks and deep learning to biomedical engineering.pdf",
           "Applications of neural networks and deep learning to biomedical engineering.pdf",
           "Unplagiarised",
           "Unplagiarised",
           "Unplagiarised",
           "Unplagiarised"
          ],
          [
           "Unplagiarised",
           "Unplagiarised",
           "Unplagiarised",
           "Unplagiarised",
           "Unplagiarised",
           "Unplagiarised",
           "Unplagiarised",
           "Unplagiarised",
           "Unplagiarised",
           "Unplagiarised",
           "Unplagiarised",
           "Unplagiarised",
           "Unplagiarised",
           "Unplagiarised",
           "Unplagiarised",
           "Unplagiarised",
           "Unplagiarised",
           "Unplagiarised",
           "Unplagiarised",
           "Unplagiarised",
           "Unplagiarised",
           "Unplagiarised"
          ],
          [
           "Unplagiarised",
           "Unplagiarised",
           "Unplagiarised",
           "Unplagiarised",
           "Unplagiarised",
           "Unplagiarised",
           "Unplagiarised",
           "Unplagiarised",
           "Unplagiarised",
           "Unplagiarised",
           "Unplagiarised",
           "Unplagiarised",
           "Unplagiarised",
           "Unplagiarised",
           "Unplagiarised",
           "Unplagiarised",
           "Unplagiarised",
           "Unplagiarised",
           "Unplagiarised",
           "Unplagiarised",
           "Unplagiarised",
           "Unplagiarised"
          ],
          [
           "Unplagiarised",
           "Unplagiarised",
           "Unplagiarised",
           "Unplagiarised",
           "Unplagiarised",
           "Unplagiarised",
           "Unplagiarised",
           "Unplagiarised",
           "Unplagiarised",
           "Unplagiarised",
           "Unplagiarised",
           "Unplagiarised",
           "Unplagiarised",
           "Unplagiarised",
           "Unplagiarised",
           "Unplagiarised",
           "Unplagiarised",
           "Unplagiarised",
           "Unplagiarised",
           "Unplagiarised",
           "Unplagiarised",
           "Unplagiarised"
          ],
          [
           "Unplagiarised",
           "Unplagiarised",
           "Unplagiarised",
           "Unplagiarised",
           "Unplagiarised",
           "Unplagiarised",
           "Unplagiarised",
           "Unplagiarised",
           "Unplagiarised",
           "Unplagiarised",
           "Unplagiarised",
           "Unplagiarised",
           "Unplagiarised",
           "Unplagiarised",
           "Unplagiarised",
           "Unplagiarised",
           "Unplagiarised",
           "Unplagiarised",
           "Unplagiarised",
           "Unplagiarised",
           "Unplagiarised",
           "Unplagiarised"
          ],
          [
           "Unplagiarised",
           "Unplagiarised",
           "Unplagiarised",
           "Unplagiarised",
           "Unplagiarised",
           "Unplagiarised",
           "Unplagiarised",
           "Unplagiarised",
           "Images, ecology and deep learning.pdf",
           "Images, ecology and deep learning.pdf",
           "Images, ecology and deep learning.pdf",
           "Images, ecology and deep learning.pdf",
           "Images, ecology and deep learning.pdf",
           "Images, ecology and deep learning.pdf",
           "Images, ecology and deep learning.pdf",
           "Images, ecology and deep learning.pdf",
           "Images, ecology and deep learning.pdf",
           "Images, ecology and deep learning.pdf",
           "Images, ecology and deep learning.pdf",
           "Images, ecology and deep learning.pdf",
           "Images, ecology and deep learning.pdf",
           "Images, ecology and deep learning.pdf"
          ],
          [
           "Images, ecology and deep learning.pdf",
           "Images, ecology and deep learning.pdf",
           "Images, ecology and deep learning.pdf",
           "Images, ecology and deep learning.pdf",
           "Images, ecology and deep learning.pdf",
           "Images, ecology and deep learning.pdf",
           "Images, ecology and deep learning.pdf",
           "Images, ecology and deep learning.pdf",
           "Images, ecology and deep learning.pdf",
           "Images, ecology and deep learning.pdf",
           "Images, ecology and deep learning.pdf",
           "Images, ecology and deep learning.pdf",
           "Images, ecology and deep learning.pdf",
           "Images, ecology and deep learning.pdf",
           "Images, ecology and deep learning.pdf",
           "Images, ecology and deep learning.pdf",
           "Images, ecology and deep learning.pdf",
           "Images, ecology and deep learning.pdf",
           "Images, ecology and deep learning.pdf",
           "Images, ecology and deep learning.pdf",
           "Images, ecology and deep learning.pdf",
           "Images, ecology and deep learning.pdf"
          ],
          [
           "Images, ecology and deep learning.pdf",
           "Images, ecology and deep learning.pdf",
           "Images, ecology and deep learning.pdf",
           "Images, ecology and deep learning.pdf",
           "Images, ecology and deep learning.pdf",
           "Images, ecology and deep learning.pdf",
           "Images, ecology and deep learning.pdf",
           "Images, ecology and deep learning.pdf",
           "Images, ecology and deep learning.pdf",
           "Images, ecology and deep learning.pdf",
           "Images, ecology and deep learning.pdf",
           "Images, ecology and deep learning.pdf",
           "Images, ecology and deep learning.pdf",
           "Images, ecology and deep learning.pdf",
           "Images, ecology and deep learning.pdf",
           "Images, ecology and deep learning.pdf",
           "Images, ecology and deep learning.pdf",
           "Images, ecology and deep learning.pdf",
           "Images, ecology and deep learning.pdf",
           "Images, ecology and deep learning.pdf",
           "Images, ecology and deep learning.pdf",
           "Images, ecology and deep learning.pdf"
          ],
          [
           "Images, ecology and deep learning.pdf",
           "Images, ecology and deep learning.pdf",
           "Images, ecology and deep learning.pdf",
           "Images, ecology and deep learning.pdf",
           "Images, ecology and deep learning.pdf",
           "Images, ecology and deep learning.pdf",
           "Images, ecology and deep learning.pdf",
           "Images, ecology and deep learning.pdf",
           "Images, ecology and deep learning.pdf",
           "Images, ecology and deep learning.pdf",
           "Images, ecology and deep learning.pdf",
           "Images, ecology and deep learning.pdf",
           "Images, ecology and deep learning.pdf",
           "Images, ecology and deep learning.pdf",
           "Images, ecology and deep learning.pdf",
           "Images, ecology and deep learning.pdf",
           "Images, ecology and deep learning.pdf",
           "Images, ecology and deep learning.pdf",
           "Images, ecology and deep learning.pdf",
           "Images, ecology and deep learning.pdf",
           "Images, ecology and deep learning.pdf",
           "Images, ecology and deep learning.pdf"
          ],
          [
           "Images, ecology and deep learning.pdf",
           "Images, ecology and deep learning.pdf",
           "Images, ecology and deep learning.pdf",
           "Images, ecology and deep learning.pdf",
           "Images, ecology and deep learning.pdf",
           "Images, ecology and deep learning.pdf",
           "Images, ecology and deep learning.pdf",
           "Images, ecology and deep learning.pdf",
           "Images, ecology and deep learning.pdf",
           "Images, ecology and deep learning.pdf",
           "Images, ecology and deep learning.pdf",
           "Images, ecology and deep learning.pdf",
           "Images, ecology and deep learning.pdf",
           "Images, ecology and deep learning.pdf",
           "Images, ecology and deep learning.pdf",
           "Images, ecology and deep learning.pdf",
           "Images, ecology and deep learning.pdf",
           "Images, ecology and deep learning.pdf",
           "Images, ecology and deep learning.pdf",
           "Images, ecology and deep learning.pdf",
           "Images, ecology and deep learning.pdf",
           "Unplagiarised"
          ],
          [
           "Unplagiarised",
           "Unplagiarised",
           "Unplagiarised",
           "Unplagiarised",
           "Unplagiarised",
           "Unplagiarised",
           "Unplagiarised",
           "Unplagiarised",
           "Unplagiarised",
           "Unplagiarised",
           "Unplagiarised",
           "Unplagiarised",
           "Unplagiarised",
           "Unplagiarised",
           "Unplagiarised",
           "Unplagiarised",
           "Unplagiarised",
           "Unplagiarised",
           "Unplagiarised",
           "Unplagiarised",
           "Unplagiarised",
           "Unplagiarised"
          ],
          [
           "Unplagiarised",
           "Unplagiarised",
           "Unplagiarised",
           "Unplagiarised",
           "Unplagiarised",
           "Unplagiarised",
           "Unplagiarised",
           "Unplagiarised",
           "Unplagiarised",
           "Unplagiarised",
           "Unplagiarised",
           "Unplagiarised",
           "Unplagiarised",
           "Unplagiarised",
           "Unplagiarised",
           "Unplagiarised",
           "Unplagiarised",
           "Unplagiarised",
           "Unplagiarised",
           "Unplagiarised",
           "Unplagiarised",
           "Unplagiarised"
          ],
          [
           "Unplagiarised",
           "Unplagiarised",
           "Unplagiarised",
           "Unplagiarised",
           "Unplagiarised",
           "Unplagiarised",
           "Unplagiarised",
           "Unplagiarised",
           "Unplagiarised",
           "Unplagiarised",
           "Unplagiarised",
           "Unplagiarised",
           "Unplagiarised",
           "Unplagiarised",
           "Unplagiarised",
           "Unplagiarised",
           "Unplagiarised",
           "Unplagiarised",
           "Unplagiarised",
           "Unplagiarised",
           "Unplagiarised",
           "Unplagiarised"
          ],
          [
           "Unplagiarised",
           "Unplagiarised",
           "Unplagiarised",
           "Unplagiarised",
           "Unplagiarised",
           "Unplagiarised",
           "Unplagiarised",
           "Unplagiarised",
           "Unplagiarised",
           "Artificial intelligence-machine learning in Public Administration.pdf",
           "Artificial intelligence-machine learning in Public Administration.pdf",
           "Artificial intelligence-machine learning in Public Administration.pdf",
           "Artificial intelligence-machine learning in Public Administration.pdf",
           "Artificial intelligence-machine learning in Public Administration.pdf",
           "Artificial intelligence-machine learning in Public Administration.pdf",
           "Artificial intelligence-machine learning in Public Administration.pdf",
           "Artificial intelligence-machine learning in Public Administration.pdf",
           "Artificial intelligence-machine learning in Public Administration.pdf",
           "Artificial intelligence-machine learning in Public Administration.pdf",
           "Artificial intelligence-machine learning in Public Administration.pdf",
           "Artificial intelligence-machine learning in Public Administration.pdf",
           "Artificial intelligence-machine learning in Public Administration.pdf"
          ],
          [
           "Artificial intelligence-machine learning in Public Administration.pdf",
           "Artificial intelligence-machine learning in Public Administration.pdf",
           "Artificial intelligence-machine learning in Public Administration.pdf",
           "Artificial intelligence-machine learning in Public Administration.pdf",
           "Artificial intelligence-machine learning in Public Administration.pdf",
           "Artificial intelligence-machine learning in Public Administration.pdf",
           "Artificial intelligence-machine learning in Public Administration.pdf",
           "Artificial intelligence-machine learning in Public Administration.pdf",
           "Artificial intelligence-machine learning in Public Administration.pdf",
           "Artificial intelligence-machine learning in Public Administration.pdf",
           "Artificial intelligence-machine learning in Public Administration.pdf",
           "Artificial intelligence-machine learning in Public Administration.pdf",
           "Artificial intelligence-machine learning in Public Administration.pdf",
           "Artificial intelligence-machine learning in Public Administration.pdf",
           "Artificial intelligence-machine learning in Public Administration.pdf",
           "Artificial intelligence-machine learning in Public Administration.pdf",
           "Artificial intelligence-machine learning in Public Administration.pdf",
           "Artificial intelligence-machine learning in Public Administration.pdf",
           "Artificial intelligence-machine learning in Public Administration.pdf",
           "Artificial intelligence-machine learning in Public Administration.pdf",
           "Artificial intelligence-machine learning in Public Administration.pdf",
           "Artificial intelligence-machine learning in Public Administration.pdf"
          ],
          [
           "Artificial intelligence-machine learning in Public Administration.pdf",
           "Artificial intelligence-machine learning in Public Administration.pdf",
           "Artificial intelligence-machine learning in Public Administration.pdf",
           "Artificial intelligence-machine learning in Public Administration.pdf",
           "Artificial intelligence-machine learning in Public Administration.pdf",
           "Artificial intelligence-machine learning in Public Administration.pdf",
           "Artificial intelligence-machine learning in Public Administration.pdf",
           "Artificial intelligence-machine learning in Public Administration.pdf",
           "Artificial intelligence-machine learning in Public Administration.pdf",
           "Artificial intelligence-machine learning in Public Administration.pdf",
           "Artificial intelligence-machine learning in Public Administration.pdf",
           "Artificial intelligence-machine learning in Public Administration.pdf",
           "Artificial intelligence-machine learning in Public Administration.pdf",
           "Artificial intelligence-machine learning in Public Administration.pdf",
           "Artificial intelligence-machine learning in Public Administration.pdf",
           "Artificial intelligence-machine learning in Public Administration.pdf",
           "Artificial intelligence-machine learning in Public Administration.pdf",
           "Artificial intelligence-machine learning in Public Administration.pdf",
           "Artificial intelligence-machine learning in Public Administration.pdf",
           "Artificial intelligence-machine learning in Public Administration.pdf",
           "Artificial intelligence-machine learning in Public Administration.pdf",
           "Artificial intelligence-machine learning in Public Administration.pdf"
          ],
          [
           "Artificial intelligence-machine learning in Public Administration.pdf",
           "Artificial intelligence-machine learning in Public Administration.pdf",
           "Artificial intelligence-machine learning in Public Administration.pdf",
           "Artificial intelligence-machine learning in Public Administration.pdf",
           "Unplagiarised",
           "Unplagiarised",
           "Unplagiarised",
           "Unplagiarised",
           "Unplagiarised",
           "Unplagiarised",
           "Unplagiarised",
           "Unplagiarised",
           "Unplagiarised",
           "Unplagiarised",
           "Unplagiarised",
           "Unplagiarised",
           "Unplagiarised",
           "Unplagiarised",
           "Unplagiarised",
           "Unplagiarised",
           "Unplagiarised",
           "Unplagiarised"
          ]
         ],
         "dx": 1,
         "hovertemplate": "%{customdata} <br><b>Score:%{z:.3f}<extra></extra>",
         "text": [
          [
           "First",
           "of",
           "all",
           "Indian",
           "origin",
           "religions",
           "are",
           "Hinduism",
           "Buddhism",
           "Jainism",
           "and",
           "Sikhism",
           "All",
           "of",
           "these",
           "religions",
           "are",
           "based",
           "on",
           "karma",
           "and",
           "dharma"
          ],
          [
           "Furthermore",
           "these",
           "four",
           "are",
           "called",
           "as",
           "Indian",
           "religions",
           "Indian",
           "religions",
           "are",
           "a",
           "major",
           "category",
           "of",
           "world",
           "religions",
           "along",
           "with",
           "Abrahamic",
           "religions",
           "Also"
          ],
          [
           "many",
           "foreign",
           "religions",
           "are",
           "present",
           "in",
           "India",
           "as",
           "well",
           "These",
           "foreign",
           "religions",
           "include",
           "Abrahamic",
           "religions",
           "The",
           "Abrahamic",
           "religions",
           "in",
           "India",
           "certainly",
           "are"
          ],
          [
           "Judaism",
           "Christianity",
           "and",
           "Islam",
           "Besides",
           "Abrahamic",
           "religions",
           "Zoroastrianism",
           "and",
           "Baháí",
           "Faith",
           "are",
           "the",
           "other",
           "foreign",
           "religions",
           "which",
           "exist",
           "in",
           "India",
           "Consequently",
           "the"
          ],
          [
           "presence",
           "of",
           "so",
           "many",
           "diverse",
           "religions",
           "has",
           "given",
           "rise",
           "to",
           "tolerance",
           "and",
           "secularism",
           "in",
           "Indian",
           "culture",
           "The",
           "Joint",
           "family",
           "system",
           "is",
           "the"
          ],
          [
           "prevailing",
           "system",
           "of",
           "Indian",
           "culture",
           "Most",
           "noteworthy",
           "the",
           "family",
           "members",
           "consist",
           "of",
           "parents",
           "children",
           "childrens",
           "spouses",
           "and",
           "offspring",
           "All",
           "of",
           "these",
           "family"
          ],
          [
           "members",
           "live",
           "together",
           "Furthermore",
           "the",
           "eldest",
           "male",
           "member",
           "is",
           "the",
           "head",
           "of",
           "the",
           "family",
           "In",
           "an",
           "article",
           "in",
           "Energy",
           "Crisis",
           "2004",
           "by"
          ],
          [
           "Coderch",
           "clear",
           "data",
           "was",
           "already",
           "offered",
           "on",
           "whether",
           "it",
           "is",
           "possible",
           "to",
           "meet",
           "the",
           "current",
           "and",
           "future",
           "energy",
           "needs",
           "of",
           "our",
           "industrial"
          ],
          [
           "civilization",
           "by",
           "building",
           "enough",
           "nuclear",
           "power",
           "plants",
           "and",
           "without",
           "contributing",
           "to",
           "the",
           "greenhouse",
           "effect",
           "or",
           "if",
           "the",
           "energy",
           "transition",
           "fossil",
           "fuels",
           "to"
          ],
          [
           "nuclear",
           "power",
           "can",
           "be",
           "done",
           "in",
           "well",
           "under",
           "50",
           "years",
           "Coderch",
           "starts",
           "from",
           "reality",
           "There",
           "are",
           "currently",
           "some",
           "450",
           "nuclear",
           "power",
           "plants"
          ],
          [
           "in",
           "the",
           "world",
           "that",
           "produces",
           "12",
           "of",
           "all",
           "the",
           "electricity",
           "consumed",
           "in",
           "the",
           "world",
           "which",
           "is",
           "equivalent",
           "to",
           "5",
           "of",
           "all",
           "the"
          ],
          [
           "energy",
           "consumed",
           "Therefore",
           "without",
           "considering",
           "increases",
           "in",
           "demand",
           "to",
           "produce",
           "all",
           "the",
           "electrical",
           "energy",
           "that",
           "the",
           "world",
           "consumes",
           "today",
           "it",
           "would",
           "be"
          ],
          [
           "necessary",
           "to",
           "build",
           "some",
           "3600",
           "additional",
           "plants",
           "which",
           "would",
           "possibly",
           "cover",
           "close",
           "to",
           "40",
           "of",
           "all",
           "the",
           "energy",
           "we",
           "consume",
           "Bearing",
           "in"
          ],
          [
           "mind",
           "that",
           "it",
           "takes",
           "about",
           "10",
           "years",
           "to",
           "build",
           "a",
           "nuclear",
           "power",
           "plant",
           "that",
           "it",
           "took",
           "more",
           "than",
           "15",
           "years",
           "to",
           "build"
          ],
          [
           "the",
           "current",
           "450",
           "plants",
           "and",
           "even",
           "assuming",
           "that",
           "despite",
           "the",
           "fact",
           "that",
           "practically",
           "no",
           "new",
           "plants",
           "have",
           "been",
           "built",
           "since",
           "the",
           "1970s"
          ],
          [
           "there",
           "are",
           "still",
           "We",
           "have",
           "the",
           "same",
           "construction",
           "capacity",
           "as",
           "in",
           "the",
           "peak",
           "decade",
           "of",
           "the",
           "1960s",
           "it",
           "would",
           "take",
           "120",
           "years"
          ],
          [
           "to",
           "build",
           "the",
           "3600",
           "new",
           "plants",
           "Even",
           "assuming",
           "we",
           "doubled",
           "the",
           "maximum",
           "capacity",
           "we",
           "had",
           "we",
           "couldnt",
           "finish",
           "construction",
           "before",
           "60"
          ],
          [
           "years",
           "Arranged",
           "marriages",
           "are",
           "the",
           "norm",
           "in",
           "Indian",
           "culture",
           "Probably",
           "most",
           "Indians",
           "have",
           "their",
           "marriages",
           "planned",
           "by",
           "their",
           "parents",
           "In",
           "almost",
           "all"
          ],
          [
           "Indian",
           "marriages",
           "the",
           "brides",
           "family",
           "gives",
           "dowry",
           "to",
           "bridegroom",
           "Weddings",
           "are",
           "certainly",
           "festive",
           "occasions",
           "in",
           "Indian",
           "culture",
           "There",
           "is",
           "involvement",
           "of",
           "striking"
          ],
          [
           "decorations",
           "clothing",
           "music",
           "dance",
           "rituals",
           "in",
           "Indian",
           "weddings",
           "Most",
           "noteworthy",
           "the",
           "divorce",
           "rates",
           "in",
           "India",
           "are",
           "very",
           "low",
           "India",
           "celebrates",
           "a",
           "huge"
          ],
          [
           "number",
           "of",
           "festivals",
           "These",
           "festivals",
           "are",
           "very",
           "diverse",
           "due",
           "to",
           "multi",
           "religious",
           "and",
           "multicultural",
           "Indian",
           "society",
           "Indians",
           "greatly",
           "value",
           "festive",
           "occasions",
           "Above"
          ],
          [
           "all",
           "the",
           "whole",
           "country",
           "joins",
           "in",
           "the",
           "celebrations",
           "irrespective",
           "of",
           "the",
           "differences",
           "There",
           "is",
           "a",
           "set",
           "of",
           "physical",
           "phenomena",
           "that",
           "can",
           "only"
          ],
          [
           "be",
           "explained",
           "from",
           "the",
           "theory",
           "of",
           "quantum",
           "mechanics",
           "among",
           "which",
           "we",
           "have",
           "the",
           "waveparticle",
           "duality",
           "of",
           "light",
           "the",
           "wave",
           "behavior",
           "of",
           "subatomic"
          ],
          [
           "particles",
           "such",
           "as",
           "electrons",
           "the",
           "tunnel",
           "effect",
           "the",
           "spin",
           "superconductivity",
           "quantum",
           "superposition",
           "and",
           "quantum",
           "entanglement",
           "In",
           "relation",
           "to",
           "the",
           "socalled",
           "waveparticle",
           "dual"
          ],
          [
           "behavior",
           "of",
           "light",
           "in",
           "principle",
           "it",
           "should",
           "be",
           "noted",
           "that",
           "it",
           "is",
           "a",
           "concept",
           "introduced",
           "in",
           "the",
           "theory",
           "of",
           "quantum",
           "mechanics",
           "by"
          ],
          [
           "the",
           "Danish",
           "physicist",
           "Bohr",
           "for",
           "express",
           "that",
           "a",
           "system",
           "can",
           "behave",
           "like",
           "a",
           "wave",
           "or",
           "a",
           "particle",
           "but",
           "not",
           "both",
           "at",
           "the"
          ],
          [
           "same",
           "time",
           "depending",
           "on",
           "the",
           "experiment",
           "that",
           "is",
           "carried",
           "out",
           "Bohr",
           "1935",
           "For",
           "example",
           "in",
           "interference",
           "experiments",
           "light",
           "shows",
           "a",
           "wave",
           "nature"
          ],
          [
           "on",
           "the",
           "other",
           "hand",
           "when",
           "light",
           "of",
           "a",
           "certain",
           "frequency",
           "illuminates",
           "a",
           "certain",
           "metal",
           "causing",
           "the",
           "expulsion",
           "of",
           "electrons",
           "from",
           "the",
           "material"
          ],
          [
           "photoelectric",
           "effect",
           "the",
           "light",
           "behaves",
           "as",
           "if",
           "it",
           "were",
           "made",
           "up",
           "of",
           "particles",
           "called",
           "photons",
           "The",
           "interpretation",
           "of",
           "the",
           "photoelectric",
           "effect",
           "in"
          ],
          [
           "terms",
           "of",
           "photons",
           "or",
           "quanta",
           "of",
           "light",
           "as",
           "well",
           "as",
           "the",
           "explanation",
           "of",
           "the",
           "phenomenon",
           "of",
           "the",
           "wave",
           "behavior",
           "of",
           "the",
           "electron"
          ],
          [
           "in",
           "diffraction",
           "experiments",
           "are",
           "based",
           "on",
           "the",
           "quantum",
           "theory",
           "of",
           "electromagnetic",
           "radiation",
           "and",
           "matter",
           "theory",
           "that",
           "unifies",
           "matter",
           "and",
           "radiation",
           "at",
           "the"
          ],
          [
           "atomic",
           "level",
           "Indian",
           "culture",
           "has",
           "been",
           "an",
           "inspiration",
           "to",
           "many",
           "writers",
           "India",
           "is",
           "certainly",
           "a",
           "symbol",
           "of",
           "unity",
           "around",
           "the",
           "world",
           "Indian"
          ],
          [
           "culture",
           "is",
           "certainly",
           "very",
           "complex",
           "Furthermore",
           "the",
           "conception",
           "of",
           "Indian",
           "identity",
           "poses",
           "certain",
           "difficulties",
           "However",
           "despite",
           "this",
           "a",
           "typical",
           "Indian",
           "culture",
           "does"
          ],
          [
           "exist",
           "The",
           "creation",
           "of",
           "this",
           "typical",
           "Indian",
           "culture",
           "results",
           "from",
           "some",
           "internal",
           "forces",
           "Above",
           "all",
           "these",
           "forces",
           "are",
           "a",
           "robust",
           "Constitution",
           "universal"
          ],
          [
           "adult",
           "franchise",
           "secular",
           "policy",
           "flexible",
           "federal",
           "structure",
           "etc",
           "Indian",
           "culture",
           "is",
           "characterized",
           "by",
           "a",
           "strict",
           "social",
           "hierarchy",
           "Furthermore",
           "Indian",
           "children",
           "are",
           "taught"
          ],
          [
           "their",
           "roles",
           "and",
           "place",
           "in",
           "society",
           "from",
           "an",
           "early",
           "age",
           "Probably",
           "many",
           "Indians",
           "believe",
           "that",
           "gods",
           "and",
           "spirits",
           "have",
           "a",
           "role",
           "in"
          ],
          [
           "determining",
           "their",
           "life",
           "Earlier",
           "traditional",
           "Hindus",
           "were",
           "divided",
           "into",
           "polluting",
           "and",
           "nonpolluting",
           "occupations",
           "Now",
           "this",
           "difference",
           "is",
           "declining",
           "A",
           "common",
           "problem",
           "that"
          ],
          [
           "arises",
           "during",
           "the",
           "training",
           "of",
           "ANNs",
           "is",
           "overfitting",
           "Overfitting",
           "occurs",
           "when",
           "the",
           "network",
           "error",
           "for",
           "the",
           "training",
           "set",
           "is",
           "very",
           "low",
           "but"
          ],
          [
           "when",
           "presented",
           "with",
           "new",
           "information",
           "test",
           "sets",
           "the",
           "error",
           "is",
           "very",
           "high",
           "This",
           "means",
           "that",
           "the",
           "network",
           "memorized",
           "the",
           "training",
           "data",
           "but"
          ],
          [
           "was",
           "unable",
           "to",
           "learn",
           "to",
           "generalize",
           "to",
           "new",
           "situations",
           "To",
           "deal",
           "with",
           "the",
           "risk",
           "of",
           "overfitting",
           "it",
           "is",
           "necessary",
           "to",
           "have",
           "a"
          ],
          [
           "good",
           "set",
           "of",
           "data",
           "training",
           "testing",
           "and",
           "validation",
           "make",
           "a",
           "correct",
           "selection",
           "of",
           "the",
           "number",
           "of",
           "network",
           "parameters",
           "and",
           "sometimes",
           "resort",
           "to"
          ],
          [
           "regularization",
           "methods",
           "especially",
           "when",
           "working",
           "with",
           "DNAs",
           "110",
           "all",
           "this",
           "implies",
           "expertise",
           "in",
           "computational",
           "sciences",
           "and",
           "development",
           "of",
           "ANNs",
           "Indian",
           "culture",
           "is"
          ],
          [
           "certainly",
           "very",
           "diverse",
           "Also",
           "Indian",
           "children",
           "learn",
           "and",
           "assimilate",
           "in",
           "the",
           "differences",
           "In",
           "recent",
           "decades",
           "huge",
           "changes",
           "have",
           "taken",
           "place",
           "in",
           "Indian"
          ],
          [
           "culture",
           "Above",
           "all",
           "these",
           "changes",
           "are",
           "female",
           "empowerment",
           "westernization",
           "a",
           "decline",
           "of",
           "superstition",
           "higher",
           "literacy",
           "improved",
           "education",
           "etc",
           "To",
           "sum",
           "it",
           "up"
          ],
          [
           "the",
           "culture",
           "of",
           "India",
           "is",
           "one",
           "of",
           "the",
           "oldest",
           "cultures",
           "in",
           "the",
           "World",
           "Above",
           "all",
           "many",
           "Indians",
           "till",
           "stick",
           "to",
           "the",
           "traditional"
          ],
          [
           "Indian",
           "culture",
           "in",
           "spite",
           "of",
           "rapid",
           "westernization",
           "Indians",
           "have",
           "demonstrated",
           "strong",
           "unity",
           "irrespective",
           "of",
           "the",
           "diversity",
           "among",
           "them",
           "Unity",
           "in",
           "Diversity",
           "is"
          ],
          [
           "the",
           "ultimate",
           "mantra",
           "of",
           "Indian",
           "culture",
           "In",
           "the",
           "following",
           "we",
           "will",
           "restrict",
           "ourselves",
           "to",
           "socalled",
           "supervised",
           "learning",
           "techniques",
           "It",
           "involves",
           "learning",
           "how"
          ],
          [
           "to",
           "solve",
           "a",
           "problem",
           "from",
           "a",
           "sample",
           "of",
           "data",
           "the",
           "training",
           "set",
           "for",
           "which",
           "the",
           "solution",
           "is",
           "known",
           "ie",
           "learning",
           "a",
           "prediction"
          ],
          [
           "function",
           "from",
           "examples",
           "annotated",
           "The",
           "linear",
           "model",
           "well",
           "known",
           "to",
           "ecologists",
           "can",
           "be",
           "included",
           "in",
           "this",
           "category",
           "For",
           "example",
           "one",
           "can",
           "learn"
          ],
          [
           "to",
           "recognize",
           "an",
           "iris",
           "from",
           "the",
           "morphology",
           "of",
           "the",
           "flowers",
           "of",
           "the",
           "three",
           "clades",
           "studied",
           "with",
           "a",
           "multinomial",
           "linear",
           "model",
           "giving",
           "the"
          ],
          [
           "probability",
           "of",
           "classifying",
           "an",
           "image",
           "as",
           "an",
           "iris",
           "according",
           "to",
           "for",
           "example",
           "the",
           "angles",
           "between",
           "the",
           "sepals",
           "the",
           "number",
           "of",
           "petals",
           "etc"
          ],
          [
           "Indian",
           "culture",
           "has",
           "been",
           "an",
           "inspiration",
           "to",
           "many",
           "writers",
           "India",
           "is",
           "certainly",
           "a",
           "symbol",
           "of",
           "unity",
           "around",
           "the",
           "world",
           "Indian",
           "culture",
           "is"
          ],
          [
           "certainly",
           "very",
           "complex",
           "Furthermore",
           "the",
           "conception",
           "of",
           "Indian",
           "identity",
           "poses",
           "certain",
           "difficulties",
           "However",
           "despite",
           "this",
           "a",
           "typical",
           "Indian",
           "culture",
           "does",
           "exist",
           "The"
          ],
          [
           "creation",
           "of",
           "this",
           "typical",
           "Indian",
           "culture",
           "results",
           "from",
           "some",
           "internal",
           "forces",
           "Above",
           "all",
           "these",
           "forces",
           "are",
           "a",
           "robust",
           "Constitution",
           "universal",
           "adult",
           "franchise"
          ],
          [
           "secular",
           "policy",
           "flexible",
           "federal",
           "structure",
           "etc",
           "It",
           "is",
           "in",
           "this",
           "sense",
           "that",
           "the",
           "article",
           "aims",
           "to",
           "reflect",
           "on",
           "AI",
           "in",
           "Public",
           "Administration"
          ],
          [
           "proposing",
           "a",
           "discussion",
           "to",
           "think",
           "to",
           "what",
           "extent",
           "this",
           "contemporary",
           "mechanism",
           "can",
           "contribute",
           "to",
           "decision",
           "making",
           "in",
           "Public",
           "Administration",
           "To",
           "what",
           "extent"
          ],
          [
           "can",
           "intelligence",
           "guide",
           "and",
           "optimize",
           "good",
           "administration",
           "practices",
           "in",
           "order",
           "to",
           "drive",
           "the",
           "social",
           "wellbeing",
           "of",
           "a",
           "societys",
           "citizens",
           "These",
           "are",
           "some"
          ],
          [
           "questions",
           "to",
           "be",
           "addressed",
           "next",
           "",
           "",
           "",
           "",
           "",
           "",
           "",
           "",
           "",
           "",
           "",
           "",
           "",
           "",
           "",
           "",
           ""
          ]
         ],
         "textfont": {
          "size": 7
         },
         "texttemplate": "%{text}",
         "type": "heatmap",
         "x0": 0,
         "z": [
          [
           0.005591709463102043,
           0.008091528382793239,
           0.005597734920451695,
           0.0017260373416907275,
           0.000499447743785572,
           0.0011117967798676565,
           0.0017975694902588053,
           0.0012291925660987573,
           0.00198360068785124,
           0.007827111798899965,
           0.012974410169174354,
           0.00909106994722933,
           0.007653206601475203,
           0.010810874917824502,
           0.008416861993390635,
           0.008526972623674854,
           0.05576083166299008,
           0.2347449453343668,
           0.3830385229527268,
           0.2380752533350515,
           0.06417958352012931,
           0.012072670419121016
          ],
          [
           0.00207906478537108,
           0.0005663887894304447,
           0.0007604080691750696,
           0.0011304654069337955,
           0.0012527451469454087,
           0.001218694976707124,
           0.0006749212249035365,
           0.0002015653689854242,
           0.000497027782715158,
           0.003563482004676922,
           0.012791862144723477,
           0.019313680479310782,
           0.012477385682006265,
           0.00802368156419874,
           0.00942396452823944,
           0.007807186478617835,
           0.02839143490675023,
           0.12163759730744739,
           0.20032114291784403,
           0.12149052324743817,
           0.027129522903842674,
           0.002284295208864874
          ],
          [
           0.00015685078404649428,
           0.0003892512294267145,
           0.0043416911075755205,
           0.03942435521131507,
           0.16657205612053994,
           0.2715097845945149,
           0.16772416112726388,
           0.0525276865280352,
           0.028750270254583602,
           0.015585887384820198,
           0.0034572059189350614,
           0.0003163197139801999,
           0.00008082467776700403,
           0.00026554549910362145,
           0.0010560557771230412,
           0.001824974135515194,
           0.0022679807832227633,
           0.005749502060503319,
           0.00929706182314066,
           0.006030741860547055,
           0.0020420002203260313,
           0.0012012654900809066
          ],
          [
           0.0022927446992134343,
           0.007925068742156254,
           0.0128760962469248,
           0.00780401422529056,
           0.0017455600393642841,
           0.00028586001073447004,
           0.0017455600393642841,
           0.007804314573302712,
           0.012894762871038835,
           0.008335265678830221,
           0.006358995697070852,
           0.017862816361673806,
           0.027808112532901174,
           0.017209714447999305,
           0.004421882840351287,
           0.0012739397114080314,
           0.0024377597002535516,
           0.006243778933169194,
           0.009545088200145819,
           0.007455885313933135,
           0.01192633728888903,
           0.0605415365956188
          ],
          [
           0.23173116145126704,
           0.3971676117968072,
           0.349717129407582,
           0.2587400145091894,
           0.13094368552071667,
           0.028871004255715416,
           0.003834239524956875,
           0.009949376505970081,
           0.04237052147612787,
           0.07116060078952695,
           0.04999479703572576,
           0.023474637641652946,
           0.014031022780010482,
           0.010775197226232491,
           0.005731702995903645,
           0.0017640842721450114,
           0.0009909519440060171,
           0.0007755719461868698,
           0.0025093574179055516,
           0.011018474625228671,
           0.02299978789868632,
           0.022960923910825867
          ],
          [
           0.013408935994594593,
           0.014603753271812953,
           0.020332713982566322,
           0.012138685031382965,
           0.0029384407626441137,
           0.003040905114543428,
           0.012614786553926338,
           0.020876476752624433,
           0.01563242024727474,
           0.03964704571038676,
           0.16526455609018037,
           0.27207537933495773,
           0.16502293370255702,
           0.03697452317070013,
           0.00477151954353529,
           0.007900277358289966,
           0.012973956823671046,
           0.00909107439682951,
           0.007652605905450899,
           0.010789732181432246,
           0.008006067554989543,
           0.002729178672704075
          ],
          [
           0.00045377324638064406,
           0.00019719957194746273,
           0.0014836402062611814,
           0.006355665844262894,
           0.010412588339284129,
           0.006374613003586386,
           0.0023555493510864305,
           0.006714471356774316,
           0.021721926927221972,
           0.03273920374178814,
           0.03180473344195414,
           0.051802060414366274,
           0.07010268656731332,
           0.04357482679483213,
           0.04289207291357977,
           0.17205339272097003,
           0.43850680014652554,
           0.6919088974324148,
           0.8417340308841152,
           0.9088076444749575,
           0.9223052210411662,
           0.907970874902313
          ],
          [
           0.8950594116787902,
           0.8940235780656578,
           0.890328207668079,
           0.882705207368238,
           0.8824731148706618,
           0.893873666261902,
           0.9030363855126515,
           0.8960766349304223,
           0.8883741587090481,
           0.8724345341536754,
           0.8326919738883314,
           0.7148482095243808,
           0.6002884989664301,
           0.7115698510698834,
           0.8261964947928024,
           0.8341953449423276,
           0.8352152213896826,
           0.8431546091025961,
           0.866402397452497,
           0.8858708658895063,
           0.8856873627897309,
           0.8871593279417229
          ],
          [
           0.9000890777966317,
           0.9089348246325823,
           0.907809409677796,
           0.9106119207121426,
           0.9109095355485957,
           0.8947709485138093,
           0.8231450859877087,
           0.7490508219130076,
           0.7869523592607358,
           0.8793116464793348,
           0.9351327360206765,
           0.912349036200468,
           0.8498958772166633,
           0.7833545388502552,
           0.7194916107116099,
           0.7611900073795211,
           0.812120427529565,
           0.8128799119115144,
           0.8266309807300348,
           0.8771182049126387,
           0.9172673603967102,
           0.919609295870794
          ],
          [
           0.9030876904844287,
           0.8799604213178376,
           0.854201549535569,
           0.8447206689361606,
           0.8406326805819364,
           0.8610905391430396,
           0.8781466964913331,
           0.8809791624727575,
           0.8846883644233416,
           0.8884226421993608,
           0.8931095439456296,
           0.9049340195481521,
           0.9091264407458095,
           0.8983580448528674,
           0.8935452236705229,
           0.8817752907270815,
           0.8525774206749481,
           0.8473126249811981,
           0.8732505149412841,
           0.9000226535916902,
           0.8953277270495934,
           0.8267385559729693
          ],
          [
           0.7597025326827975,
           0.764800265362416,
           0.7021847832467938,
           0.4797381866384326,
           0.19875751566066258,
           0.07803883883945745,
           0.1841026847138556,
           0.42382572595361123,
           0.6108514844419252,
           0.6999678232926554,
           0.7883871048972041,
           0.8555607756780633,
           0.8431235310345436,
           0.7706621519740338,
           0.7399061716035393,
           0.7852607630448608,
           0.8282123042026786,
           0.8536255477849772,
           0.8576648106855302,
           0.8626902909008909,
           0.8600820603401433,
           0.8081585974999663
          ],
          [
           0.6946014885837251,
           0.6382292727767156,
           0.7372759836336524,
           0.8441937057440254,
           0.8817841817558096,
           0.8935966720959756,
           0.8867915483184015,
           0.868794848838056,
           0.8689795849088948,
           0.8657095699061048,
           0.8555884453203522,
           0.8438982060895601,
           0.8203486097404082,
           0.8150435172192696,
           0.8262372201359146,
           0.8205955326777599,
           0.7781758666892573,
           0.7764651879840179,
           0.8462215937046089,
           0.8856006669473494,
           0.8708184319282075,
           0.8205436242192425
          ],
          [
           0.7528963709184233,
           0.6763232954882289,
           0.6056709342611499,
           0.6666712208390503,
           0.801121911228764,
           0.8732449870830972,
           0.8852082841374942,
           0.877558481273655,
           0.860234435557468,
           0.8520923970264743,
           0.8730996048156648,
           0.8914234321986723,
           0.8846240244133448,
           0.8631324793849648,
           0.8519262641742529,
           0.8375782414293991,
           0.7949020981648238,
           0.6995683694312733,
           0.6497369585677757,
           0.6890083290777762,
           0.7198912627020961,
           0.8018174137405074
          ],
          [
           0.8586993575373844,
           0.8553955166145399,
           0.8403826291521002,
           0.8314857893661296,
           0.8526872892900188,
           0.8718761468072769,
           0.8659694092051987,
           0.8409049240641213,
           0.7889432149053943,
           0.7193368376089766,
           0.727467571091333,
           0.8023322864479998,
           0.77239605908266,
           0.7030185162986834,
           0.7508173698155161,
           0.8235865855176985,
           0.8681724404901381,
           0.8647442627569616,
           0.8435327086223283,
           0.8566981602820163,
           0.862490634965899,
           0.809971015226218
          ],
          [
           0.7020622450734813,
           0.6438513493790596,
           0.7315785898211198,
           0.8393395194248443,
           0.86037218214587,
           0.8345893579355927,
           0.8316932462605532,
           0.8477043201833725,
           0.8410055379712391,
           0.8354050335877248,
           0.8411327097572617,
           0.8239415424152806,
           0.7930852045654555,
           0.8353021623691981,
           0.8733185312168368,
           0.8654389426832597,
           0.8526032818366667,
           0.8440307232582616,
           0.8377528154452214,
           0.8578359273647895,
           0.8648392514645334,
           0.8613029929429226
          ],
          [
           0.8830925319827019,
           0.8751653488854636,
           0.8449280658169809,
           0.8545788447003158,
           0.8699400641674477,
           0.8528087425031432,
           0.8174297767954244,
           0.811911308768379,
           0.8372194028993141,
           0.8539855782320989,
           0.8667921266939959,
           0.834742481825637,
           0.7882256558070381,
           0.8379221129311424,
           0.8852877494974967,
           0.8614925916893018,
           0.8246035889764173,
           0.8303429661530541,
           0.8444969067781434,
           0.8476747538156222,
           0.8688278820560558,
           0.8883179557851224
          ],
          [
           0.8745526413096445,
           0.8124392629750365,
           0.7082591141427287,
           0.6699445641245432,
           0.7677585147657011,
           0.8477568812290338,
           0.871161096183499,
           0.8838980443280255,
           0.8736210540543872,
           0.8815231636178876,
           0.9020655177953139,
           0.9061692594275289,
           0.9048947170116416,
           0.8936966770659627,
           0.8839688616823513,
           0.8792240530229146,
           0.8629307848044604,
           0.8523782994794471,
           0.8771230142025563,
           0.9014059207877549,
           0.8930348990729153,
           0.8362199199306712
          ],
          [
           0.6201583353275815,
           0.2670947176057588,
           0.05656557959246357,
           0.021711215036636713,
           0.028420461541260895,
           0.021467311898002266,
           0.01253960007474653,
           0.0057651452646122125,
           0.0012899853563308906,
           0.00032799955669190307,
           0.000513618732955808,
           0.001310869675489428,
           0.003502696876505957,
           0.004815419389282787,
           0.002842636860432136,
           0.0011493117157822734,
           0.0010110572936332797,
           0.0008046942408481514,
           0.0008416583697605965,
           0.0011288539440654675,
           0.0008797014778206018,
           0.0007663364291246353
          ],
          [
           0.003072570154942514,
           0.012667947047517638,
           0.02079106294498166,
           0.012609829534443714,
           0.002909583611012267,
           0.0014084817882957438,
           0.005285136418985416,
           0.008721124828142064,
           0.005519960990973719,
           0.00226439494026143,
           0.0018935889374529127,
           0.0011942858867790946,
           0.0014627990014297078,
           0.005476775105551464,
           0.009029358513194688,
           0.006381475959285749,
           0.012364473005249942,
           0.0519595172125205,
           0.10988435366000986,
           0.17604365868018912,
           0.21965354677698887,
           0.12743190226304796
          ],
          [
           0.028258894845915365,
           0.0023203991206002645,
           0.00016988617403927093,
           0.0012171968140851077,
           0.005456030702168248,
           0.008999655485501272,
           0.005472433816990054,
           0.0014545891333515317,
           0.0029142964431480563,
           0.012612773011167042,
           0.0208848587005687,
           0.013828860210716741,
           0.008334523976757643,
           0.009596404490084557,
           0.006716925016738581,
           0.00486783665088273,
           0.007489165587865619,
           0.008038073305095216,
           0.004766725889820692,
           0.0046047306512195406,
           0.009861205618461554,
           0.04230807000612201
          ],
          [
           0.16807130475098486,
           0.27434789910444946,
           0.16636245296790866,
           0.03758761611316066,
           0.0047552912248818476,
           0.004227838723954824,
           0.008782694542804077,
           0.05207047862065366,
           0.2228348583384068,
           0.366651621133471,
           0.22399938051027202,
           0.05739543038624804,
           0.016943296519117364,
           0.007954339175998424,
           0.001812383934940418,
           0.00023597729856057127,
           0.00006430869087366353,
           0.00005121856833332614,
           0.00006734017191047731,
           0.00007328624677276435,
           0.0010135258844621606,
           0.011838988101223637
          ],
          [
           0.0524093364283013,
           0.08607958627142517,
           0.05236981893340155,
           0.013852854796354343,
           0.01733628697948977,
           0.057826665510372126,
           0.08612474251768266,
           0.05319248493917989,
           0.03072612740700388,
           0.05800538547558927,
           0.07608558319573239,
           0.054808389616623765,
           0.08988843761294352,
           0.2442799969321482,
           0.43524773001855116,
           0.57378106755707,
           0.6535989230182637,
           0.691634345848267,
           0.7585264696399097,
           0.7886785650894517,
           0.7611746615543222,
           0.7626165100308324
          ],
          [
           0.7718796586865929,
           0.7707025239286629,
           0.804958786478698,
           0.8355734950276086,
           0.8477505904212683,
           0.8667397480161471,
           0.8417394478149167,
           0.7293234013018493,
           0.6214567917159777,
           0.7050685408214226,
           0.7849890255921519,
           0.7684543629126381,
           0.7736796920314652,
           0.8172637960362974,
           0.8410298424814542,
           0.8230642607636857,
           0.8240723891002967,
           0.8410306426333537,
           0.8723876174724796,
           0.8881484513391631,
           0.8102604243066436,
           0.7189691038151362
          ],
          [
           0.7736574589660725,
           0.8534650345756454,
           0.8688494790170901,
           0.8496307087386166,
           0.8608702129498346,
           0.8824272907991058,
           0.8619612827193659,
           0.8071918960516699,
           0.7898048319364661,
           0.8121479616801448,
           0.8479543197463838,
           0.860523637723039,
           0.8535768957693636,
           0.8632471967603388,
           0.8723847475543489,
           0.8063736031184094,
           0.7344164719606909,
           0.7895183192091927,
           0.8045573315839797,
           0.7613786010833502,
           0.7977640315416418,
           0.8718268948304765
          ],
          [
           0.9030653075052599,
           0.876854929767499,
           0.8313472710096206,
           0.8223309707058337,
           0.8375778460057499,
           0.8427135375566297,
           0.8649805215294155,
           0.8924134332976256,
           0.8581015244528729,
           0.7284178653714014,
           0.5948506733965756,
           0.6090415002998516,
           0.5840373184438985,
           0.5757893033250522,
           0.7313151940767699,
           0.8545586028325074,
           0.8627518469297983,
           0.8412312839479703,
           0.8093368443585272,
           0.743842097272182,
           0.6691308694629006,
           0.6048726637588232
          ],
          [
           0.6956281154042282,
           0.8139175053350141,
           0.8851151274768477,
           0.9140018400611155,
           0.9049663392289596,
           0.8988697802633714,
           0.8961873247627715,
           0.859927295505454,
           0.807816858152377,
           0.7953222534447937,
           0.8360857146542129,
           0.8873020710742106,
           0.8871142531876798,
           0.8456679847645157,
           0.8300372601074552,
           0.8497646883328076,
           0.8586639659696758,
           0.8528866803819537,
           0.8513591944296149,
           0.8558781086377342,
           0.8702699766647365,
           0.834159927081952
          ],
          [
           0.7414352353185719,
           0.7324763863936119,
           0.8288617109888519,
           0.8962096559297807,
           0.8607668649374853,
           0.8097569959011517,
           0.8393641406634779,
           0.8566833465928485,
           0.8468477955493805,
           0.8297566339419513,
           0.79402883226799,
           0.8311386566761886,
           0.8809293136112207,
           0.8690046875425939,
           0.833091870009494,
           0.8433723065800085,
           0.8829671750320294,
           0.893772992285307,
           0.8873586162758745,
           0.8798136155531238,
           0.8607249258911835,
           0.8487398548014939
          ],
          [
           0.8629731076194951,
           0.8571024400576726,
           0.8139547794665276,
           0.7134795727583549,
           0.6231956855546502,
           0.7207049925421016,
           0.8258170070828583,
           0.8178118275120276,
           0.7893838659322374,
           0.8092982737390942,
           0.8661168895689564,
           0.894098543947522,
           0.8698443772587148,
           0.8556833153997074,
           0.8911160100360049,
           0.9142442617778364,
           0.9094616747345792,
           0.9024763090588677,
           0.880260226520315,
           0.8573876619748774,
           0.8396976355408123,
           0.8220036978412166
          ],
          [
           0.8459616238932903,
           0.8775133924983092,
           0.858736156186907,
           0.834832350926499,
           0.8511464960997863,
           0.8835368386017999,
           0.886122169195946,
           0.8645894255001361,
           0.8496567820883217,
           0.8673624383869758,
           0.8847158343201484,
           0.845081670347481,
           0.787431068310567,
           0.819626770038766,
           0.873067264576063,
           0.8871319009857249,
           0.8739338259363713,
           0.8462644975391291,
           0.8186267483895608,
           0.8262732592312266,
           0.8628464103057678,
           0.8730540398410761
          ],
          [
           0.8781072211867996,
           0.8424206577968066,
           0.7805959234177097,
           0.8182859556626317,
           0.8812020739408226,
           0.8974766947121062,
           0.8732980311713048,
           0.853171401287384,
           0.8625684670110263,
           0.8057395049434075,
           0.6300432247211103,
           0.5619111905801766,
           0.7214029819368382,
           0.8320349667167131,
           0.8330226800473469,
           0.8347568652428893,
           0.8226271029417744,
           0.8269449237822772,
           0.8602733700086003,
           0.8000070759195119,
           0.6572306726511047,
           0.6089572669653784
          ],
          [
           0.6764506772312273,
           0.8026661142378388,
           0.8861389218198237,
           0.8992767611620964,
           0.896749453720254,
           0.8538381211109493,
           0.734893924665216,
           0.6736509193080691,
           0.7446429559323366,
           0.8219049369383644,
           0.8389227939963088,
           0.8493141819781007,
           0.857104778187258,
           0.8663929705103479,
           0.8763402875139541,
           0.881776926897466,
           0.8924154113685316,
           0.8999859979215796,
           0.8777606568225952,
           0.8550168612194067,
           0.8670801029399104,
           0.860937146776692
          ],
          [
           0.7917039728909182,
           0.5920181649417664,
           0.2612765095771119,
           0.06047904117719567,
           0.045010011840013284,
           0.07474189336810111,
           0.05846267632873575,
           0.025436448849172177,
           0.012023567610331477,
           0.005581385365833367,
           0.001549544229565705,
           0.0015182351137833043,
           0.0025835306804269645,
           0.0032371693666950123,
           0.005608695194327021,
           0.012865181639817182,
           0.019877587306098926,
           0.026034987129262516,
           0.06935640340730322,
           0.11062192984456926,
           0.06728816320921649,
           0.015505781331244368
          ],
          [
           0.0027025749164885787,
           0.0023770999233630086,
           0.0014928310020055884,
           0.0006029040068903535,
           0.0016059715195051692,
           0.006592224370953263,
           0.012888094905261107,
           0.01738633450728779,
           0.019678692819300136,
           0.011209680226762808,
           0.002512772935390998,
           0.00032589779299653895,
           0.00022766506001079491,
           0.000222528713040371,
           0.00029028297491636736,
           0.0008384336936918017,
           0.002100370808751336,
           0.002661244028344923,
           0.0014569594526017144,
           0.0003402035479419053,
           0.00009612210258160277,
           0.0003976023803640803
          ],
          [
           0.00445755185907476,
           0.04288457733251456,
           0.185690061583641,
           0.3057124244848054,
           0.1870670950313662,
           0.042820994520881034,
           0.003792165107280388,
           0.00029216086289895446,
           0.0005287624863525185,
           0.0008175040264149316,
           0.0005287392398506808,
           0.0001571348947963754,
           0.00017232302732692718,
           0.0014354129103454408,
           0.0057869279791389885,
           0.009540839774987438,
           0.00896710257173585,
           0.01398734843283969,
           0.019311273037736446,
           0.011248121963671533,
           0.0024873424306843385,
           0.00021030341021180068
          ],
          [
           0.000007901522487290591,
           1.5705669418608247e-7,
           3.191738429844602e-7,
           0.00000425486015171718,
           0.000024227367036763413,
           0.00006359663020261436,
           0.0000822364459877805,
           0.00008422443967242783,
           0.0004829580526229009,
           0.00549003696333801,
           0.051042806689672794,
           0.22794867449873435,
           0.4214113753516023,
           0.33637948317496447,
           0.12455263244938836,
           0.02161840805941735,
           0.0018196726417015346,
           0.00016130360807604816,
           0.00017311082181980646,
           0.0005700642150159236,
           0.0009562563523438644,
           0.0009121911045144259
          ],
          [
           0.002257848252533184,
           0.008829790357168332,
           0.022542527715134382,
           0.05100209423104227,
           0.07334500399208038,
           0.04463062832333383,
           0.012041883541419315,
           0.003697162794312789,
           0.0016694596205325076,
           0.0004028208651284883,
           0.00011491940998148133,
           0.00015363841587835635,
           0.0005824435788880746,
           0.0024581907379441206,
           0.005536236317368336,
           0.010123196914577226,
           0.013793636338169829,
           0.0120502677790131,
           0.020772032816129965,
           0.050931938636808734,
           0.12163430257775702,
           0.17721242957909236
          ],
          [
           0.10568084464106561,
           0.02371188551826664,
           0.002090470867292299,
           0.00012133005463738887,
           0.00013317519565536506,
           0.0033841375504045272,
           0.040600798380507105,
           0.1817362897583856,
           0.3010501759463757,
           0.18933390937648903,
           0.053371114583232855,
           0.011142927616902326,
           0.0020074047939365744,
           0.001343174581191617,
           0.008069276732436806,
           0.032271421833179645,
           0.052565983721293216,
           0.03606680242260947,
           0.05419144919516612,
           0.23186623078482624,
           0.5358812820895282,
           0.7325601990551966
          ],
          [
           0.8005536036417069,
           0.8405799998314789,
           0.8642020968368898,
           0.8483824251511652,
           0.8130699443531912,
           0.789402809218019,
           0.7543081785672726,
           0.7479209971293355,
           0.8241743624885376,
           0.8865588052167385,
           0.8829191523612842,
           0.8416684150321543,
           0.8072985426141677,
           0.8139444172473783,
           0.8497626052343787,
           0.8488556477423825,
           0.8032730691503089,
           0.7545048495912956,
           0.7367682655595933,
           0.783020404405091,
           0.8314318140451038,
           0.8653235155619063
          ],
          [
           0.8801570802283649,
           0.8807426662714539,
           0.8768524275043046,
           0.8607745056911961,
           0.8485585068615478,
           0.8658862473881914,
           0.8862696746944757,
           0.8871248613603917,
           0.8827027187573888,
           0.8776460753669864,
           0.8583117985131681,
           0.8437158118445536,
           0.8619586041871294,
           0.8787109530252621,
           0.8446812449053149,
           0.7681547810867418,
           0.7289282266152728,
           0.7580197695906534,
           0.8317987908977065,
           0.8443548339472128,
           0.7861776406414784,
           0.7529445881002503
          ],
          [
           0.797825251479121,
           0.8646285828177425,
           0.8926764483754117,
           0.863061014636376,
           0.7994489622917175,
           0.7734010897123464,
           0.8187834031527041,
           0.8452667544702073,
           0.8359282769167748,
           0.8497364260548138,
           0.8907108599547412,
           0.9146437761678881,
           0.8615998064521417,
           0.7990769253485508,
           0.8375344680273127,
           0.8846510121152059,
           0.8929132238032347,
           0.871964230433566,
           0.8171061095677232,
           0.688421816799472,
           0.5624067339324248,
           0.6262654694420238
          ],
          [
           0.718795153740449,
           0.7844018499157146,
           0.8221343725632193,
           0.781482708069621,
           0.7580565132841867,
           0.819995377587275,
           0.8737604404784745,
           0.8749639363091926,
           0.863871639963423,
           0.857986515062969,
           0.8561526710594624,
           0.8746231655181661,
           0.8870599597777962,
           0.8472601468894474,
           0.7831492151845019,
           0.7162965405121845,
           0.6515389981378692,
           0.7271356535463096,
           0.8269379752475476,
           0.8781264580895483,
           0.9127035069485985,
           0.9187894115052495
          ],
          [
           0.9092067125275562,
           0.9049966690287201,
           0.8945748707272765,
           0.8857238797223103,
           0.8833843805062773,
           0.8761833440398379,
           0.8733092639063764,
           0.8903511188583575,
           0.8908626264946868,
           0.8671617207816278,
           0.8557274663000021,
           0.878850489737643,
           0.8837203663308113,
           0.8611047317414906,
           0.8664353532988479,
           0.8827279411407065,
           0.8729390830884013,
           0.7732941889848529,
           0.5054522737099704,
           0.19379739167194102,
           0.03675507275710481,
           0.005011530742584212
          ],
          [
           0.0015557198889926626,
           0.0004401101741637915,
           0.00011584797302934232,
           0.000054738058050474506,
           0.0002656969388267062,
           0.0027352563735862597,
           0.012097864665103769,
           0.021720995587145762,
           0.028209363422788153,
           0.060438963003402686,
           0.0862302958271716,
           0.05082841320512156,
           0.013714373313369034,
           0.004848213717116929,
           0.0023196080724859174,
           0.000594665440210592,
           0.0008461989984550971,
           0.00846407364520759,
           0.05629233946605033,
           0.18249978899066016,
           0.25918540439290205,
           0.14793224591022403
          ],
          [
           0.032405300089598,
           0.00406365732360165,
           0.0058515067432734205,
           0.009220298153218594,
           0.005974345698407892,
           0.002102943480236501,
           0.0007052643206311524,
           0.0009003999381257549,
           0.003664182098159225,
           0.008162448577687643,
           0.014529830981835986,
           0.01904010786810822,
           0.011165430948061645,
           0.002514435312907139,
           0.00023789530857416263,
           0.00006145860218089244,
           0.00009562457051674893,
           0.00012947522574381518,
           0.00040122286907176823,
           0.0017865017207331084,
           0.007544268427838476,
           0.02649516472227941
          ],
          [
           0.05453718021172941,
           0.09004247912883417,
           0.11454484583546985,
           0.0701594668139335,
           0.0498360167482396,
           0.17968761156065174,
           0.436246990855944,
           0.5064450233143482,
           0.26226680451160705,
           0.07055306264023721,
           0.062120005102592454,
           0.08603310475469392,
           0.05006217857742165,
           0.01122562057134001,
           0.0013051281212164744,
           0.00030242779196865274,
           0.00018777302023298385,
           0.0016927666208843206,
           0.011437650208807135,
           0.03630667201140593,
           0.050795928500816136,
           0.028847956716969634
          ],
          [
           0.006898355052343516,
           0.0034616471020047315,
           0.0069927870520869115,
           0.013806990771789249,
           0.01887357764154664,
           0.011137591723257304,
           0.0025901465591061917,
           0.0007274323327830147,
           0.0008788727893680506,
           0.00056175795675663,
           0.00038603946931063736,
           0.003217660478921374,
           0.019744912241506554,
           0.057083296091472266,
           0.07510227489388456,
           0.04141782329168002,
           0.00919094425879453,
           0.002102791275740174,
           0.005591775350768045,
           0.009937210826355344,
           0.012043987953047614,
           0.02282842036671972
          ],
          [
           0.031146432463268998,
           0.020164114600846758,
           0.014972000284088812,
           0.018621631105266576,
           0.011807509260095378,
           0.010678139149102974,
           0.03960531695433487,
           0.10009923504681417,
           0.23498524363210838,
           0.4975045095148968,
           0.7294983966899001,
           0.8259072543515165,
           0.8768523780025792,
           0.9034345282429239,
           0.8987235922945843,
           0.8997144965346591,
           0.8915111488087799,
           0.8476352446715874,
           0.8279856398955294,
           0.8634826667207846,
           0.8960998078172175,
           0.8913234570681736
          ],
          [
           0.8603626469491711,
           0.8189694434492667,
           0.8117867702876285,
           0.8082208165915543,
           0.7575296471746152,
           0.7390234153463349,
           0.7964885450231844,
           0.8603429687047048,
           0.8571033888728634,
           0.8283235437650287,
           0.8183206018533997,
           0.7773252044325563,
           0.7509550113090422,
           0.8129964887310474,
           0.8504299034395337,
           0.8411916234549033,
           0.8845917033786057,
           0.9044777630336729,
           0.812837682229289,
           0.7212162061045305,
           0.7727911288022191,
           0.8386752185807516
          ],
          [
           0.8508275328262398,
           0.8634522223539087,
           0.8769144142008221,
           0.8837182156410641,
           0.8856733648696299,
           0.8828409244101876,
           0.867360063798782,
           0.84550378744143,
           0.8441160398953089,
           0.8500525310189784,
           0.8654000045220543,
           0.8805268397031906,
           0.8695497762670981,
           0.8534743628455901,
           0.868387239795869,
           0.8604752649894134,
           0.8485271962337235,
           0.8749003742860162,
           0.8698879228114411,
           0.828414839765062,
           0.8138535380391974,
           0.8185686596831291
          ],
          [
           0.7990705344080234,
           0.767500703027336,
           0.7677893350858385,
           0.7741037754342479,
           0.8063765194234909,
           0.8342633912193906,
           0.8443497780800009,
           0.8711467542938292,
           0.8636965694035594,
           0.8394567472414096,
           0.8528055679605944,
           0.8388102615495396,
           0.7696705516972517,
           0.7396574025195797,
           0.7997575767242009,
           0.8597404586954412,
           0.8590644453313709,
           0.8545583689726631,
           0.8846302881899704,
           0.8654974410054443,
           0.8237335157005279,
           0.8502458991194497
          ],
          [
           0.8627267525456421,
           0.8241225672482853,
           0.8085650194917695,
           0.8487858931815058,
           0.849424343284739,
           0.7914235770734305,
           0.7523290725224872,
           0.7776663429915467,
           0.8405532952709245,
           0.8743079626491148,
           0.8515626611080871,
           0.8239354205538804,
           0.77409891270863,
           0.7394343366238296,
           0.7875917098409373,
           0.8365526407971011,
           0.8511495704561737,
           0.8797140120534674,
           0.8879617285641339,
           0.8293360945592847,
           0.7198178815077337,
           0.5489042014192878
          ],
          [
           0.2537641987886217,
           0.060386705374537074,
           0.04505085008196598,
           0.07474398783021564,
           0.05846267651413576,
           0.025436448849172177,
           0.012023567610331477,
           0.005581385365833367,
           0.001549544229565705,
           0.0015182351137833043,
           0.0025835306804269645,
           0.0032371693666950123,
           0.005608695194327021,
           0.012865181639817182,
           0.019877587306098926,
           0.026034987129262516,
           0.06935640340730322,
           0.11062192984456926,
           0.06728816320921649,
           0.015505781331244368,
           0.0027025749164885787,
           0.0023770999233630086
          ],
          [
           0.0014928310020055884,
           0.0006029040068903535,
           0.0016059715195051692,
           0.006592224370953263,
           0.012888094905261107,
           0.01738633450728779,
           0.019678692819300136,
           0.011209680226762808,
           0.002512772935390998,
           0.00032589779299653895,
           0.00022766506001079491,
           0.000222528713040371,
           0.00029028297491636736,
           0.0008384336936918017,
           0.002100370808751336,
           0.002661244028344923,
           0.0014569594526017144,
           0.0003402035479419053,
           0.00009612210258160277,
           0.0003976023803640803,
           0.00445755185907476,
           0.04288457733251456
          ],
          [
           0.185690061583641,
           0.3057124244848054,
           0.1870670950313662,
           0.042820994520881034,
           0.003792165107280388,
           0.00029216086289895446,
           0.0005287624863525185,
           0.0008175040264149316,
           0.0005287392398506808,
           0.0001571348947963754,
           0.00017232302732692718,
           0.0014354129103454408,
           0.0057869279791389885,
           0.009540839774987438,
           0.00896710257173585,
           0.01398734843283969,
           0.019311273037736446,
           0.011248121963671533,
           0.0024873424306843385,
           0.00021030341021180068,
           0.000007901522487290591,
           1.5705669418608247e-7
          ],
          [
           3.191738429844602e-7,
           0.00000425486015171718,
           0.000024320808640544026,
           0.0001544005172891753,
           0.0030295263201662015,
           0.035903023235479586,
           0.1645674490514604,
           0.31383570638507197,
           0.37901417515111513,
           0.47457909862480147,
           0.5382734829989891,
           0.6178988272088406,
           0.7243943817827269,
           0.7854204382049113,
           0.839191939824496,
           0.8771483764743763,
           0.8685747685240566,
           0.841533019843579,
           0.8037425947375034,
           0.8238216132322169,
           0.8413495548544889,
           0.7336152021569168
          ],
          [
           0.6144465233230555,
           0.7240269380488452,
           0.8538703898185751,
           0.8793707411213538,
           0.8680991951002899,
           0.8549109198537315,
           0.8485684534122345,
           0.8368414818370972,
           0.839526230830469,
           0.8723335288832262,
           0.8989578092159369,
           0.8871026044511563,
           0.8386645327586004,
           0.6578958490561728,
           0.35219203456521037,
           0.24700238740596558,
           0.40242466032484,
           0.6223945551616632,
           0.641787025204035,
           0.5505526279173805,
           0.6778755435058934,
           0.8051848276442866
          ],
          [
           0.8076385742489721,
           0.8336552316244148,
           0.8737769349936126,
           0.8886039757001465,
           0.886858990513964,
           0.8812821672665501,
           0.8613807797873494,
           0.840792754452577,
           0.8589337323319234,
           0.88273015833869,
           0.841461572973292,
           0.7735568174320988,
           0.8078751800263011,
           0.8517320329688445,
           0.853900021020741,
           0.8499316244624346,
           0.8257164494500058,
           0.8173036035307534,
           0.8502324269341359,
           0.8751954775017434,
           0.8787551568259393,
           0.8785389589479105
          ],
          [
           0.878557676846961,
           0.8632225190009442,
           0.8127064180460262,
           0.7057041962136148,
           0.48229569336805833,
           0.19633442454149636,
           0.03728135385498013,
           0.002876095966835303,
           0.00008377239083940256,
           0,
           0,
           0,
           0,
           0,
           0,
           0,
           0,
           0,
           0,
           0,
           0,
           0
          ]
         ],
         "zmax": 1,
         "zmin": 0
        }
       ],
       "layout": {
        "font": {
         "family": "sans-serif"
        },
        "height": 1450,
        "template": {
         "data": {
          "bar": [
           {
            "error_x": {
             "color": "#2a3f5f"
            },
            "error_y": {
             "color": "#2a3f5f"
            },
            "marker": {
             "line": {
              "color": "#E5ECF6",
              "width": 0.5
             },
             "pattern": {
              "fillmode": "overlay",
              "size": 10,
              "solidity": 0.2
             }
            },
            "type": "bar"
           }
          ],
          "barpolar": [
           {
            "marker": {
             "line": {
              "color": "#E5ECF6",
              "width": 0.5
             },
             "pattern": {
              "fillmode": "overlay",
              "size": 10,
              "solidity": 0.2
             }
            },
            "type": "barpolar"
           }
          ],
          "carpet": [
           {
            "aaxis": {
             "endlinecolor": "#2a3f5f",
             "gridcolor": "white",
             "linecolor": "white",
             "minorgridcolor": "white",
             "startlinecolor": "#2a3f5f"
            },
            "baxis": {
             "endlinecolor": "#2a3f5f",
             "gridcolor": "white",
             "linecolor": "white",
             "minorgridcolor": "white",
             "startlinecolor": "#2a3f5f"
            },
            "type": "carpet"
           }
          ],
          "choropleth": [
           {
            "colorbar": {
             "outlinewidth": 0,
             "ticks": ""
            },
            "type": "choropleth"
           }
          ],
          "contour": [
           {
            "colorbar": {
             "outlinewidth": 0,
             "ticks": ""
            },
            "colorscale": [
             [
              0,
              "#0d0887"
             ],
             [
              0.1111111111111111,
              "#46039f"
             ],
             [
              0.2222222222222222,
              "#7201a8"
             ],
             [
              0.3333333333333333,
              "#9c179e"
             ],
             [
              0.4444444444444444,
              "#bd3786"
             ],
             [
              0.5555555555555556,
              "#d8576b"
             ],
             [
              0.6666666666666666,
              "#ed7953"
             ],
             [
              0.7777777777777778,
              "#fb9f3a"
             ],
             [
              0.8888888888888888,
              "#fdca26"
             ],
             [
              1,
              "#f0f921"
             ]
            ],
            "type": "contour"
           }
          ],
          "contourcarpet": [
           {
            "colorbar": {
             "outlinewidth": 0,
             "ticks": ""
            },
            "type": "contourcarpet"
           }
          ],
          "heatmap": [
           {
            "colorbar": {
             "outlinewidth": 0,
             "ticks": ""
            },
            "colorscale": [
             [
              0,
              "#0d0887"
             ],
             [
              0.1111111111111111,
              "#46039f"
             ],
             [
              0.2222222222222222,
              "#7201a8"
             ],
             [
              0.3333333333333333,
              "#9c179e"
             ],
             [
              0.4444444444444444,
              "#bd3786"
             ],
             [
              0.5555555555555556,
              "#d8576b"
             ],
             [
              0.6666666666666666,
              "#ed7953"
             ],
             [
              0.7777777777777778,
              "#fb9f3a"
             ],
             [
              0.8888888888888888,
              "#fdca26"
             ],
             [
              1,
              "#f0f921"
             ]
            ],
            "type": "heatmap"
           }
          ],
          "heatmapgl": [
           {
            "colorbar": {
             "outlinewidth": 0,
             "ticks": ""
            },
            "colorscale": [
             [
              0,
              "#0d0887"
             ],
             [
              0.1111111111111111,
              "#46039f"
             ],
             [
              0.2222222222222222,
              "#7201a8"
             ],
             [
              0.3333333333333333,
              "#9c179e"
             ],
             [
              0.4444444444444444,
              "#bd3786"
             ],
             [
              0.5555555555555556,
              "#d8576b"
             ],
             [
              0.6666666666666666,
              "#ed7953"
             ],
             [
              0.7777777777777778,
              "#fb9f3a"
             ],
             [
              0.8888888888888888,
              "#fdca26"
             ],
             [
              1,
              "#f0f921"
             ]
            ],
            "type": "heatmapgl"
           }
          ],
          "histogram": [
           {
            "marker": {
             "pattern": {
              "fillmode": "overlay",
              "size": 10,
              "solidity": 0.2
             }
            },
            "type": "histogram"
           }
          ],
          "histogram2d": [
           {
            "colorbar": {
             "outlinewidth": 0,
             "ticks": ""
            },
            "colorscale": [
             [
              0,
              "#0d0887"
             ],
             [
              0.1111111111111111,
              "#46039f"
             ],
             [
              0.2222222222222222,
              "#7201a8"
             ],
             [
              0.3333333333333333,
              "#9c179e"
             ],
             [
              0.4444444444444444,
              "#bd3786"
             ],
             [
              0.5555555555555556,
              "#d8576b"
             ],
             [
              0.6666666666666666,
              "#ed7953"
             ],
             [
              0.7777777777777778,
              "#fb9f3a"
             ],
             [
              0.8888888888888888,
              "#fdca26"
             ],
             [
              1,
              "#f0f921"
             ]
            ],
            "type": "histogram2d"
           }
          ],
          "histogram2dcontour": [
           {
            "colorbar": {
             "outlinewidth": 0,
             "ticks": ""
            },
            "colorscale": [
             [
              0,
              "#0d0887"
             ],
             [
              0.1111111111111111,
              "#46039f"
             ],
             [
              0.2222222222222222,
              "#7201a8"
             ],
             [
              0.3333333333333333,
              "#9c179e"
             ],
             [
              0.4444444444444444,
              "#bd3786"
             ],
             [
              0.5555555555555556,
              "#d8576b"
             ],
             [
              0.6666666666666666,
              "#ed7953"
             ],
             [
              0.7777777777777778,
              "#fb9f3a"
             ],
             [
              0.8888888888888888,
              "#fdca26"
             ],
             [
              1,
              "#f0f921"
             ]
            ],
            "type": "histogram2dcontour"
           }
          ],
          "mesh3d": [
           {
            "colorbar": {
             "outlinewidth": 0,
             "ticks": ""
            },
            "type": "mesh3d"
           }
          ],
          "parcoords": [
           {
            "line": {
             "colorbar": {
              "outlinewidth": 0,
              "ticks": ""
             }
            },
            "type": "parcoords"
           }
          ],
          "pie": [
           {
            "automargin": true,
            "type": "pie"
           }
          ],
          "scatter": [
           {
            "fillpattern": {
             "fillmode": "overlay",
             "size": 10,
             "solidity": 0.2
            },
            "type": "scatter"
           }
          ],
          "scatter3d": [
           {
            "line": {
             "colorbar": {
              "outlinewidth": 0,
              "ticks": ""
             }
            },
            "marker": {
             "colorbar": {
              "outlinewidth": 0,
              "ticks": ""
             }
            },
            "type": "scatter3d"
           }
          ],
          "scattercarpet": [
           {
            "marker": {
             "colorbar": {
              "outlinewidth": 0,
              "ticks": ""
             }
            },
            "type": "scattercarpet"
           }
          ],
          "scattergeo": [
           {
            "marker": {
             "colorbar": {
              "outlinewidth": 0,
              "ticks": ""
             }
            },
            "type": "scattergeo"
           }
          ],
          "scattergl": [
           {
            "marker": {
             "colorbar": {
              "outlinewidth": 0,
              "ticks": ""
             }
            },
            "type": "scattergl"
           }
          ],
          "scattermapbox": [
           {
            "marker": {
             "colorbar": {
              "outlinewidth": 0,
              "ticks": ""
             }
            },
            "type": "scattermapbox"
           }
          ],
          "scatterpolar": [
           {
            "marker": {
             "colorbar": {
              "outlinewidth": 0,
              "ticks": ""
             }
            },
            "type": "scatterpolar"
           }
          ],
          "scatterpolargl": [
           {
            "marker": {
             "colorbar": {
              "outlinewidth": 0,
              "ticks": ""
             }
            },
            "type": "scatterpolargl"
           }
          ],
          "scatterternary": [
           {
            "marker": {
             "colorbar": {
              "outlinewidth": 0,
              "ticks": ""
             }
            },
            "type": "scatterternary"
           }
          ],
          "surface": [
           {
            "colorbar": {
             "outlinewidth": 0,
             "ticks": ""
            },
            "colorscale": [
             [
              0,
              "#0d0887"
             ],
             [
              0.1111111111111111,
              "#46039f"
             ],
             [
              0.2222222222222222,
              "#7201a8"
             ],
             [
              0.3333333333333333,
              "#9c179e"
             ],
             [
              0.4444444444444444,
              "#bd3786"
             ],
             [
              0.5555555555555556,
              "#d8576b"
             ],
             [
              0.6666666666666666,
              "#ed7953"
             ],
             [
              0.7777777777777778,
              "#fb9f3a"
             ],
             [
              0.8888888888888888,
              "#fdca26"
             ],
             [
              1,
              "#f0f921"
             ]
            ],
            "type": "surface"
           }
          ],
          "table": [
           {
            "cells": {
             "fill": {
              "color": "#EBF0F8"
             },
             "line": {
              "color": "white"
             }
            },
            "header": {
             "fill": {
              "color": "#C8D4E3"
             },
             "line": {
              "color": "white"
             }
            },
            "type": "table"
           }
          ]
         },
         "layout": {
          "annotationdefaults": {
           "arrowcolor": "#2a3f5f",
           "arrowhead": 0,
           "arrowwidth": 1
          },
          "autotypenumbers": "strict",
          "coloraxis": {
           "colorbar": {
            "outlinewidth": 0,
            "ticks": ""
           }
          },
          "colorscale": {
           "diverging": [
            [
             0,
             "#8e0152"
            ],
            [
             0.1,
             "#c51b7d"
            ],
            [
             0.2,
             "#de77ae"
            ],
            [
             0.3,
             "#f1b6da"
            ],
            [
             0.4,
             "#fde0ef"
            ],
            [
             0.5,
             "#f7f7f7"
            ],
            [
             0.6,
             "#e6f5d0"
            ],
            [
             0.7,
             "#b8e186"
            ],
            [
             0.8,
             "#7fbc41"
            ],
            [
             0.9,
             "#4d9221"
            ],
            [
             1,
             "#276419"
            ]
           ],
           "sequential": [
            [
             0,
             "#0d0887"
            ],
            [
             0.1111111111111111,
             "#46039f"
            ],
            [
             0.2222222222222222,
             "#7201a8"
            ],
            [
             0.3333333333333333,
             "#9c179e"
            ],
            [
             0.4444444444444444,
             "#bd3786"
            ],
            [
             0.5555555555555556,
             "#d8576b"
            ],
            [
             0.6666666666666666,
             "#ed7953"
            ],
            [
             0.7777777777777778,
             "#fb9f3a"
            ],
            [
             0.8888888888888888,
             "#fdca26"
            ],
            [
             1,
             "#f0f921"
            ]
           ],
           "sequentialminus": [
            [
             0,
             "#0d0887"
            ],
            [
             0.1111111111111111,
             "#46039f"
            ],
            [
             0.2222222222222222,
             "#7201a8"
            ],
            [
             0.3333333333333333,
             "#9c179e"
            ],
            [
             0.4444444444444444,
             "#bd3786"
            ],
            [
             0.5555555555555556,
             "#d8576b"
            ],
            [
             0.6666666666666666,
             "#ed7953"
            ],
            [
             0.7777777777777778,
             "#fb9f3a"
            ],
            [
             0.8888888888888888,
             "#fdca26"
            ],
            [
             1,
             "#f0f921"
            ]
           ]
          },
          "colorway": [
           "#636efa",
           "#EF553B",
           "#00cc96",
           "#ab63fa",
           "#FFA15A",
           "#19d3f3",
           "#FF6692",
           "#B6E880",
           "#FF97FF",
           "#FECB52"
          ],
          "font": {
           "color": "#2a3f5f"
          },
          "geo": {
           "bgcolor": "white",
           "lakecolor": "white",
           "landcolor": "#E5ECF6",
           "showlakes": true,
           "showland": true,
           "subunitcolor": "white"
          },
          "hoverlabel": {
           "align": "left"
          },
          "hovermode": "closest",
          "mapbox": {
           "style": "light"
          },
          "paper_bgcolor": "white",
          "plot_bgcolor": "#E5ECF6",
          "polar": {
           "angularaxis": {
            "gridcolor": "white",
            "linecolor": "white",
            "ticks": ""
           },
           "bgcolor": "#E5ECF6",
           "radialaxis": {
            "gridcolor": "white",
            "linecolor": "white",
            "ticks": ""
           }
          },
          "scene": {
           "xaxis": {
            "backgroundcolor": "#E5ECF6",
            "gridcolor": "white",
            "gridwidth": 2,
            "linecolor": "white",
            "showbackground": true,
            "ticks": "",
            "zerolinecolor": "white"
           },
           "yaxis": {
            "backgroundcolor": "#E5ECF6",
            "gridcolor": "white",
            "gridwidth": 2,
            "linecolor": "white",
            "showbackground": true,
            "ticks": "",
            "zerolinecolor": "white"
           },
           "zaxis": {
            "backgroundcolor": "#E5ECF6",
            "gridcolor": "white",
            "gridwidth": 2,
            "linecolor": "white",
            "showbackground": true,
            "ticks": "",
            "zerolinecolor": "white"
           }
          },
          "shapedefaults": {
           "line": {
            "color": "#2a3f5f"
           }
          },
          "ternary": {
           "aaxis": {
            "gridcolor": "white",
            "linecolor": "white",
            "ticks": ""
           },
           "baxis": {
            "gridcolor": "white",
            "linecolor": "white",
            "ticks": ""
           },
           "bgcolor": "#E5ECF6",
           "caxis": {
            "gridcolor": "white",
            "linecolor": "white",
            "ticks": ""
           }
          },
          "title": {
           "x": 0.05
          },
          "xaxis": {
           "automargin": true,
           "gridcolor": "white",
           "linecolor": "white",
           "ticks": "",
           "title": {
            "standoff": 15
           },
           "zerolinecolor": "white",
           "zerolinewidth": 2
          },
          "yaxis": {
           "automargin": true,
           "gridcolor": "white",
           "linecolor": "white",
           "ticks": "",
           "title": {
            "standoff": 15
           },
           "zerolinecolor": "white",
           "zerolinewidth": 2
          }
         }
        },
        "title": {
         "text": "Science Article"
        },
        "width": 1000,
        "yaxis": {
         "autorange": "reversed"
        }
       }
      }
     },
     "metadata": {},
     "output_type": "display_data"
    }
   ],
   "source": [
    "# Show heatmap\n",
    "fig.show()"
   ]
  },
  {
   "cell_type": "code",
   "execution_count": null,
   "metadata": {},
   "outputs": [],
   "source": [
    "# Open Textbox \n",
    "displayDoc(jumpStates,testVector,suspiciousText,suspiciousDoc)"
   ]
  },
  {
   "cell_type": "code",
   "execution_count": null,
   "metadata": {},
   "outputs": [
    {
     "data": {
      "application/vnd.plotly.v1+json": {
       "config": {
        "plotlyServerURL": "https://plot.ly"
       },
       "data": [
        {
         "domain": {
          "x": [
           0,
           1
          ],
          "y": [
           0,
           1
          ]
         },
         "hole": 0.5,
         "hovertemplate": "Status=%{label}<br>No. of Words=%{value}<extra></extra>",
         "labels": [
          "Unplagiarised",
          "Plagiarised"
         ],
         "legendgroup": "",
         "name": "",
         "showlegend": true,
         "type": "pie",
         "values": [
          558,
          706
         ]
        }
       ],
       "layout": {
        "font": {
         "color": "cyan",
         "family": "sans-serif"
        },
        "height": 400,
        "legend": {
         "title": {
          "font": {
           "color": "cyan"
          }
         },
         "tracegroupgap": 0
        },
        "margin": {
         "b": 0,
         "l": 0,
         "r": 0,
         "t": 40
        },
        "paper_bgcolor": "#000000",
        "piecolorway": [
         "rgb(255,0,0)",
         "rgb(0,0,255)"
        ],
        "template": {
         "data": {
          "bar": [
           {
            "error_x": {
             "color": "#2a3f5f"
            },
            "error_y": {
             "color": "#2a3f5f"
            },
            "marker": {
             "line": {
              "color": "#E5ECF6",
              "width": 0.5
             },
             "pattern": {
              "fillmode": "overlay",
              "size": 10,
              "solidity": 0.2
             }
            },
            "type": "bar"
           }
          ],
          "barpolar": [
           {
            "marker": {
             "line": {
              "color": "#E5ECF6",
              "width": 0.5
             },
             "pattern": {
              "fillmode": "overlay",
              "size": 10,
              "solidity": 0.2
             }
            },
            "type": "barpolar"
           }
          ],
          "carpet": [
           {
            "aaxis": {
             "endlinecolor": "#2a3f5f",
             "gridcolor": "white",
             "linecolor": "white",
             "minorgridcolor": "white",
             "startlinecolor": "#2a3f5f"
            },
            "baxis": {
             "endlinecolor": "#2a3f5f",
             "gridcolor": "white",
             "linecolor": "white",
             "minorgridcolor": "white",
             "startlinecolor": "#2a3f5f"
            },
            "type": "carpet"
           }
          ],
          "choropleth": [
           {
            "colorbar": {
             "outlinewidth": 0,
             "ticks": ""
            },
            "type": "choropleth"
           }
          ],
          "contour": [
           {
            "colorbar": {
             "outlinewidth": 0,
             "ticks": ""
            },
            "colorscale": [
             [
              0,
              "#0d0887"
             ],
             [
              0.1111111111111111,
              "#46039f"
             ],
             [
              0.2222222222222222,
              "#7201a8"
             ],
             [
              0.3333333333333333,
              "#9c179e"
             ],
             [
              0.4444444444444444,
              "#bd3786"
             ],
             [
              0.5555555555555556,
              "#d8576b"
             ],
             [
              0.6666666666666666,
              "#ed7953"
             ],
             [
              0.7777777777777778,
              "#fb9f3a"
             ],
             [
              0.8888888888888888,
              "#fdca26"
             ],
             [
              1,
              "#f0f921"
             ]
            ],
            "type": "contour"
           }
          ],
          "contourcarpet": [
           {
            "colorbar": {
             "outlinewidth": 0,
             "ticks": ""
            },
            "type": "contourcarpet"
           }
          ],
          "heatmap": [
           {
            "colorbar": {
             "outlinewidth": 0,
             "ticks": ""
            },
            "colorscale": [
             [
              0,
              "#0d0887"
             ],
             [
              0.1111111111111111,
              "#46039f"
             ],
             [
              0.2222222222222222,
              "#7201a8"
             ],
             [
              0.3333333333333333,
              "#9c179e"
             ],
             [
              0.4444444444444444,
              "#bd3786"
             ],
             [
              0.5555555555555556,
              "#d8576b"
             ],
             [
              0.6666666666666666,
              "#ed7953"
             ],
             [
              0.7777777777777778,
              "#fb9f3a"
             ],
             [
              0.8888888888888888,
              "#fdca26"
             ],
             [
              1,
              "#f0f921"
             ]
            ],
            "type": "heatmap"
           }
          ],
          "heatmapgl": [
           {
            "colorbar": {
             "outlinewidth": 0,
             "ticks": ""
            },
            "colorscale": [
             [
              0,
              "#0d0887"
             ],
             [
              0.1111111111111111,
              "#46039f"
             ],
             [
              0.2222222222222222,
              "#7201a8"
             ],
             [
              0.3333333333333333,
              "#9c179e"
             ],
             [
              0.4444444444444444,
              "#bd3786"
             ],
             [
              0.5555555555555556,
              "#d8576b"
             ],
             [
              0.6666666666666666,
              "#ed7953"
             ],
             [
              0.7777777777777778,
              "#fb9f3a"
             ],
             [
              0.8888888888888888,
              "#fdca26"
             ],
             [
              1,
              "#f0f921"
             ]
            ],
            "type": "heatmapgl"
           }
          ],
          "histogram": [
           {
            "marker": {
             "pattern": {
              "fillmode": "overlay",
              "size": 10,
              "solidity": 0.2
             }
            },
            "type": "histogram"
           }
          ],
          "histogram2d": [
           {
            "colorbar": {
             "outlinewidth": 0,
             "ticks": ""
            },
            "colorscale": [
             [
              0,
              "#0d0887"
             ],
             [
              0.1111111111111111,
              "#46039f"
             ],
             [
              0.2222222222222222,
              "#7201a8"
             ],
             [
              0.3333333333333333,
              "#9c179e"
             ],
             [
              0.4444444444444444,
              "#bd3786"
             ],
             [
              0.5555555555555556,
              "#d8576b"
             ],
             [
              0.6666666666666666,
              "#ed7953"
             ],
             [
              0.7777777777777778,
              "#fb9f3a"
             ],
             [
              0.8888888888888888,
              "#fdca26"
             ],
             [
              1,
              "#f0f921"
             ]
            ],
            "type": "histogram2d"
           }
          ],
          "histogram2dcontour": [
           {
            "colorbar": {
             "outlinewidth": 0,
             "ticks": ""
            },
            "colorscale": [
             [
              0,
              "#0d0887"
             ],
             [
              0.1111111111111111,
              "#46039f"
             ],
             [
              0.2222222222222222,
              "#7201a8"
             ],
             [
              0.3333333333333333,
              "#9c179e"
             ],
             [
              0.4444444444444444,
              "#bd3786"
             ],
             [
              0.5555555555555556,
              "#d8576b"
             ],
             [
              0.6666666666666666,
              "#ed7953"
             ],
             [
              0.7777777777777778,
              "#fb9f3a"
             ],
             [
              0.8888888888888888,
              "#fdca26"
             ],
             [
              1,
              "#f0f921"
             ]
            ],
            "type": "histogram2dcontour"
           }
          ],
          "mesh3d": [
           {
            "colorbar": {
             "outlinewidth": 0,
             "ticks": ""
            },
            "type": "mesh3d"
           }
          ],
          "parcoords": [
           {
            "line": {
             "colorbar": {
              "outlinewidth": 0,
              "ticks": ""
             }
            },
            "type": "parcoords"
           }
          ],
          "pie": [
           {
            "automargin": true,
            "type": "pie"
           }
          ],
          "scatter": [
           {
            "fillpattern": {
             "fillmode": "overlay",
             "size": 10,
             "solidity": 0.2
            },
            "type": "scatter"
           }
          ],
          "scatter3d": [
           {
            "line": {
             "colorbar": {
              "outlinewidth": 0,
              "ticks": ""
             }
            },
            "marker": {
             "colorbar": {
              "outlinewidth": 0,
              "ticks": ""
             }
            },
            "type": "scatter3d"
           }
          ],
          "scattercarpet": [
           {
            "marker": {
             "colorbar": {
              "outlinewidth": 0,
              "ticks": ""
             }
            },
            "type": "scattercarpet"
           }
          ],
          "scattergeo": [
           {
            "marker": {
             "colorbar": {
              "outlinewidth": 0,
              "ticks": ""
             }
            },
            "type": "scattergeo"
           }
          ],
          "scattergl": [
           {
            "marker": {
             "colorbar": {
              "outlinewidth": 0,
              "ticks": ""
             }
            },
            "type": "scattergl"
           }
          ],
          "scattermapbox": [
           {
            "marker": {
             "colorbar": {
              "outlinewidth": 0,
              "ticks": ""
             }
            },
            "type": "scattermapbox"
           }
          ],
          "scatterpolar": [
           {
            "marker": {
             "colorbar": {
              "outlinewidth": 0,
              "ticks": ""
             }
            },
            "type": "scatterpolar"
           }
          ],
          "scatterpolargl": [
           {
            "marker": {
             "colorbar": {
              "outlinewidth": 0,
              "ticks": ""
             }
            },
            "type": "scatterpolargl"
           }
          ],
          "scatterternary": [
           {
            "marker": {
             "colorbar": {
              "outlinewidth": 0,
              "ticks": ""
             }
            },
            "type": "scatterternary"
           }
          ],
          "surface": [
           {
            "colorbar": {
             "outlinewidth": 0,
             "ticks": ""
            },
            "colorscale": [
             [
              0,
              "#0d0887"
             ],
             [
              0.1111111111111111,
              "#46039f"
             ],
             [
              0.2222222222222222,
              "#7201a8"
             ],
             [
              0.3333333333333333,
              "#9c179e"
             ],
             [
              0.4444444444444444,
              "#bd3786"
             ],
             [
              0.5555555555555556,
              "#d8576b"
             ],
             [
              0.6666666666666666,
              "#ed7953"
             ],
             [
              0.7777777777777778,
              "#fb9f3a"
             ],
             [
              0.8888888888888888,
              "#fdca26"
             ],
             [
              1,
              "#f0f921"
             ]
            ],
            "type": "surface"
           }
          ],
          "table": [
           {
            "cells": {
             "fill": {
              "color": "#EBF0F8"
             },
             "line": {
              "color": "white"
             }
            },
            "header": {
             "fill": {
              "color": "#C8D4E3"
             },
             "line": {
              "color": "white"
             }
            },
            "type": "table"
           }
          ]
         },
         "layout": {
          "annotationdefaults": {
           "arrowcolor": "#2a3f5f",
           "arrowhead": 0,
           "arrowwidth": 1
          },
          "autotypenumbers": "strict",
          "coloraxis": {
           "colorbar": {
            "outlinewidth": 0,
            "ticks": ""
           }
          },
          "colorscale": {
           "diverging": [
            [
             0,
             "#8e0152"
            ],
            [
             0.1,
             "#c51b7d"
            ],
            [
             0.2,
             "#de77ae"
            ],
            [
             0.3,
             "#f1b6da"
            ],
            [
             0.4,
             "#fde0ef"
            ],
            [
             0.5,
             "#f7f7f7"
            ],
            [
             0.6,
             "#e6f5d0"
            ],
            [
             0.7,
             "#b8e186"
            ],
            [
             0.8,
             "#7fbc41"
            ],
            [
             0.9,
             "#4d9221"
            ],
            [
             1,
             "#276419"
            ]
           ],
           "sequential": [
            [
             0,
             "#0d0887"
            ],
            [
             0.1111111111111111,
             "#46039f"
            ],
            [
             0.2222222222222222,
             "#7201a8"
            ],
            [
             0.3333333333333333,
             "#9c179e"
            ],
            [
             0.4444444444444444,
             "#bd3786"
            ],
            [
             0.5555555555555556,
             "#d8576b"
            ],
            [
             0.6666666666666666,
             "#ed7953"
            ],
            [
             0.7777777777777778,
             "#fb9f3a"
            ],
            [
             0.8888888888888888,
             "#fdca26"
            ],
            [
             1,
             "#f0f921"
            ]
           ],
           "sequentialminus": [
            [
             0,
             "#0d0887"
            ],
            [
             0.1111111111111111,
             "#46039f"
            ],
            [
             0.2222222222222222,
             "#7201a8"
            ],
            [
             0.3333333333333333,
             "#9c179e"
            ],
            [
             0.4444444444444444,
             "#bd3786"
            ],
            [
             0.5555555555555556,
             "#d8576b"
            ],
            [
             0.6666666666666666,
             "#ed7953"
            ],
            [
             0.7777777777777778,
             "#fb9f3a"
            ],
            [
             0.8888888888888888,
             "#fdca26"
            ],
            [
             1,
             "#f0f921"
            ]
           ]
          },
          "colorway": [
           "#636efa",
           "#EF553B",
           "#00cc96",
           "#ab63fa",
           "#FFA15A",
           "#19d3f3",
           "#FF6692",
           "#B6E880",
           "#FF97FF",
           "#FECB52"
          ],
          "font": {
           "color": "#2a3f5f"
          },
          "geo": {
           "bgcolor": "white",
           "lakecolor": "white",
           "landcolor": "#E5ECF6",
           "showlakes": true,
           "showland": true,
           "subunitcolor": "white"
          },
          "hoverlabel": {
           "align": "left"
          },
          "hovermode": "closest",
          "mapbox": {
           "style": "light"
          },
          "paper_bgcolor": "white",
          "plot_bgcolor": "#E5ECF6",
          "polar": {
           "angularaxis": {
            "gridcolor": "white",
            "linecolor": "white",
            "ticks": ""
           },
           "bgcolor": "#E5ECF6",
           "radialaxis": {
            "gridcolor": "white",
            "linecolor": "white",
            "ticks": ""
           }
          },
          "scene": {
           "xaxis": {
            "backgroundcolor": "#E5ECF6",
            "gridcolor": "white",
            "gridwidth": 2,
            "linecolor": "white",
            "showbackground": true,
            "ticks": "",
            "zerolinecolor": "white"
           },
           "yaxis": {
            "backgroundcolor": "#E5ECF6",
            "gridcolor": "white",
            "gridwidth": 2,
            "linecolor": "white",
            "showbackground": true,
            "ticks": "",
            "zerolinecolor": "white"
           },
           "zaxis": {
            "backgroundcolor": "#E5ECF6",
            "gridcolor": "white",
            "gridwidth": 2,
            "linecolor": "white",
            "showbackground": true,
            "ticks": "",
            "zerolinecolor": "white"
           }
          },
          "shapedefaults": {
           "line": {
            "color": "#2a3f5f"
           }
          },
          "ternary": {
           "aaxis": {
            "gridcolor": "white",
            "linecolor": "white",
            "ticks": ""
           },
           "baxis": {
            "gridcolor": "white",
            "linecolor": "white",
            "ticks": ""
           },
           "bgcolor": "#E5ECF6",
           "caxis": {
            "gridcolor": "white",
            "linecolor": "white",
            "ticks": ""
           }
          },
          "title": {
           "x": 0.05
          },
          "xaxis": {
           "automargin": true,
           "gridcolor": "white",
           "linecolor": "white",
           "ticks": "",
           "title": {
            "standoff": 15
           },
           "zerolinecolor": "white",
           "zerolinewidth": 2
          },
          "yaxis": {
           "automargin": true,
           "gridcolor": "white",
           "linecolor": "white",
           "ticks": "",
           "title": {
            "standoff": 15
           },
           "zerolinecolor": "white",
           "zerolinewidth": 2
          }
         }
        },
        "title": {
         "font": {
          "color": "white",
          "family": "sans-serif"
         },
         "text": "Plagiarism Status"
        },
        "width": 400
       }
      }
     },
     "metadata": {},
     "output_type": "display_data"
    }
   ],
   "source": [
    "# Show Pie Chart-I\n",
    "figP1.show()"
   ]
  },
  {
   "cell_type": "code",
   "execution_count": null,
   "metadata": {},
   "outputs": [
    {
     "data": {
      "application/vnd.plotly.v1+json": {
       "config": {
        "plotlyServerURL": "https://plot.ly"
       },
       "data": [
        {
         "domain": {
          "x": [
           0,
           1
          ],
          "y": [
           0,
           1
          ]
         },
         "hole": 0.5,
         "hovertemplate": "Source=%{label}<br>No. of Words=%{value}<extra></extra>",
         "labels": [
          "Unplagiarised",
          "Applications of neural networks and deep learning to biomedical engineering.pdf",
          "Artificial intelligence-machine learning in Public Administration.pdf",
          "Images, ecology and deep learning.pdf",
          "Is it possible to develop quantum computing in Venezuela.pdf",
          "The Nuclear Mirage.pdf"
         ],
         "legendgroup": "",
         "name": "",
         "showlegend": true,
         "type": "pie",
         "values": [
          558,
          109,
          61,
          101,
          207,
          228
         ]
        }
       ],
       "layout": {
        "font": {
         "color": "cyan",
         "family": "sans-serif"
        },
        "height": 400,
        "legend": {
         "title": {
          "font": {
           "color": "cyan"
          }
         },
         "tracegroupgap": 0
        },
        "margin": {
         "b": 0,
         "l": 0,
         "r": 0,
         "t": 40
        },
        "paper_bgcolor": "#000000",
        "piecolorway": [
         "rgb(255,0,0)",
         "rgb(255,111,0)",
         "rgb(255,234,0)",
         "rgb(151,255,0)",
         "rgb(44,255,150)",
         "rgb(0,152,255)",
         "rgb(0,25,255)",
         "rgb(0,0,200)",
         "rgb(150,0,90)"
        ],
        "template": {
         "data": {
          "bar": [
           {
            "error_x": {
             "color": "#2a3f5f"
            },
            "error_y": {
             "color": "#2a3f5f"
            },
            "marker": {
             "line": {
              "color": "#E5ECF6",
              "width": 0.5
             },
             "pattern": {
              "fillmode": "overlay",
              "size": 10,
              "solidity": 0.2
             }
            },
            "type": "bar"
           }
          ],
          "barpolar": [
           {
            "marker": {
             "line": {
              "color": "#E5ECF6",
              "width": 0.5
             },
             "pattern": {
              "fillmode": "overlay",
              "size": 10,
              "solidity": 0.2
             }
            },
            "type": "barpolar"
           }
          ],
          "carpet": [
           {
            "aaxis": {
             "endlinecolor": "#2a3f5f",
             "gridcolor": "white",
             "linecolor": "white",
             "minorgridcolor": "white",
             "startlinecolor": "#2a3f5f"
            },
            "baxis": {
             "endlinecolor": "#2a3f5f",
             "gridcolor": "white",
             "linecolor": "white",
             "minorgridcolor": "white",
             "startlinecolor": "#2a3f5f"
            },
            "type": "carpet"
           }
          ],
          "choropleth": [
           {
            "colorbar": {
             "outlinewidth": 0,
             "ticks": ""
            },
            "type": "choropleth"
           }
          ],
          "contour": [
           {
            "colorbar": {
             "outlinewidth": 0,
             "ticks": ""
            },
            "colorscale": [
             [
              0,
              "#0d0887"
             ],
             [
              0.1111111111111111,
              "#46039f"
             ],
             [
              0.2222222222222222,
              "#7201a8"
             ],
             [
              0.3333333333333333,
              "#9c179e"
             ],
             [
              0.4444444444444444,
              "#bd3786"
             ],
             [
              0.5555555555555556,
              "#d8576b"
             ],
             [
              0.6666666666666666,
              "#ed7953"
             ],
             [
              0.7777777777777778,
              "#fb9f3a"
             ],
             [
              0.8888888888888888,
              "#fdca26"
             ],
             [
              1,
              "#f0f921"
             ]
            ],
            "type": "contour"
           }
          ],
          "contourcarpet": [
           {
            "colorbar": {
             "outlinewidth": 0,
             "ticks": ""
            },
            "type": "contourcarpet"
           }
          ],
          "heatmap": [
           {
            "colorbar": {
             "outlinewidth": 0,
             "ticks": ""
            },
            "colorscale": [
             [
              0,
              "#0d0887"
             ],
             [
              0.1111111111111111,
              "#46039f"
             ],
             [
              0.2222222222222222,
              "#7201a8"
             ],
             [
              0.3333333333333333,
              "#9c179e"
             ],
             [
              0.4444444444444444,
              "#bd3786"
             ],
             [
              0.5555555555555556,
              "#d8576b"
             ],
             [
              0.6666666666666666,
              "#ed7953"
             ],
             [
              0.7777777777777778,
              "#fb9f3a"
             ],
             [
              0.8888888888888888,
              "#fdca26"
             ],
             [
              1,
              "#f0f921"
             ]
            ],
            "type": "heatmap"
           }
          ],
          "heatmapgl": [
           {
            "colorbar": {
             "outlinewidth": 0,
             "ticks": ""
            },
            "colorscale": [
             [
              0,
              "#0d0887"
             ],
             [
              0.1111111111111111,
              "#46039f"
             ],
             [
              0.2222222222222222,
              "#7201a8"
             ],
             [
              0.3333333333333333,
              "#9c179e"
             ],
             [
              0.4444444444444444,
              "#bd3786"
             ],
             [
              0.5555555555555556,
              "#d8576b"
             ],
             [
              0.6666666666666666,
              "#ed7953"
             ],
             [
              0.7777777777777778,
              "#fb9f3a"
             ],
             [
              0.8888888888888888,
              "#fdca26"
             ],
             [
              1,
              "#f0f921"
             ]
            ],
            "type": "heatmapgl"
           }
          ],
          "histogram": [
           {
            "marker": {
             "pattern": {
              "fillmode": "overlay",
              "size": 10,
              "solidity": 0.2
             }
            },
            "type": "histogram"
           }
          ],
          "histogram2d": [
           {
            "colorbar": {
             "outlinewidth": 0,
             "ticks": ""
            },
            "colorscale": [
             [
              0,
              "#0d0887"
             ],
             [
              0.1111111111111111,
              "#46039f"
             ],
             [
              0.2222222222222222,
              "#7201a8"
             ],
             [
              0.3333333333333333,
              "#9c179e"
             ],
             [
              0.4444444444444444,
              "#bd3786"
             ],
             [
              0.5555555555555556,
              "#d8576b"
             ],
             [
              0.6666666666666666,
              "#ed7953"
             ],
             [
              0.7777777777777778,
              "#fb9f3a"
             ],
             [
              0.8888888888888888,
              "#fdca26"
             ],
             [
              1,
              "#f0f921"
             ]
            ],
            "type": "histogram2d"
           }
          ],
          "histogram2dcontour": [
           {
            "colorbar": {
             "outlinewidth": 0,
             "ticks": ""
            },
            "colorscale": [
             [
              0,
              "#0d0887"
             ],
             [
              0.1111111111111111,
              "#46039f"
             ],
             [
              0.2222222222222222,
              "#7201a8"
             ],
             [
              0.3333333333333333,
              "#9c179e"
             ],
             [
              0.4444444444444444,
              "#bd3786"
             ],
             [
              0.5555555555555556,
              "#d8576b"
             ],
             [
              0.6666666666666666,
              "#ed7953"
             ],
             [
              0.7777777777777778,
              "#fb9f3a"
             ],
             [
              0.8888888888888888,
              "#fdca26"
             ],
             [
              1,
              "#f0f921"
             ]
            ],
            "type": "histogram2dcontour"
           }
          ],
          "mesh3d": [
           {
            "colorbar": {
             "outlinewidth": 0,
             "ticks": ""
            },
            "type": "mesh3d"
           }
          ],
          "parcoords": [
           {
            "line": {
             "colorbar": {
              "outlinewidth": 0,
              "ticks": ""
             }
            },
            "type": "parcoords"
           }
          ],
          "pie": [
           {
            "automargin": true,
            "type": "pie"
           }
          ],
          "scatter": [
           {
            "fillpattern": {
             "fillmode": "overlay",
             "size": 10,
             "solidity": 0.2
            },
            "type": "scatter"
           }
          ],
          "scatter3d": [
           {
            "line": {
             "colorbar": {
              "outlinewidth": 0,
              "ticks": ""
             }
            },
            "marker": {
             "colorbar": {
              "outlinewidth": 0,
              "ticks": ""
             }
            },
            "type": "scatter3d"
           }
          ],
          "scattercarpet": [
           {
            "marker": {
             "colorbar": {
              "outlinewidth": 0,
              "ticks": ""
             }
            },
            "type": "scattercarpet"
           }
          ],
          "scattergeo": [
           {
            "marker": {
             "colorbar": {
              "outlinewidth": 0,
              "ticks": ""
             }
            },
            "type": "scattergeo"
           }
          ],
          "scattergl": [
           {
            "marker": {
             "colorbar": {
              "outlinewidth": 0,
              "ticks": ""
             }
            },
            "type": "scattergl"
           }
          ],
          "scattermapbox": [
           {
            "marker": {
             "colorbar": {
              "outlinewidth": 0,
              "ticks": ""
             }
            },
            "type": "scattermapbox"
           }
          ],
          "scatterpolar": [
           {
            "marker": {
             "colorbar": {
              "outlinewidth": 0,
              "ticks": ""
             }
            },
            "type": "scatterpolar"
           }
          ],
          "scatterpolargl": [
           {
            "marker": {
             "colorbar": {
              "outlinewidth": 0,
              "ticks": ""
             }
            },
            "type": "scatterpolargl"
           }
          ],
          "scatterternary": [
           {
            "marker": {
             "colorbar": {
              "outlinewidth": 0,
              "ticks": ""
             }
            },
            "type": "scatterternary"
           }
          ],
          "surface": [
           {
            "colorbar": {
             "outlinewidth": 0,
             "ticks": ""
            },
            "colorscale": [
             [
              0,
              "#0d0887"
             ],
             [
              0.1111111111111111,
              "#46039f"
             ],
             [
              0.2222222222222222,
              "#7201a8"
             ],
             [
              0.3333333333333333,
              "#9c179e"
             ],
             [
              0.4444444444444444,
              "#bd3786"
             ],
             [
              0.5555555555555556,
              "#d8576b"
             ],
             [
              0.6666666666666666,
              "#ed7953"
             ],
             [
              0.7777777777777778,
              "#fb9f3a"
             ],
             [
              0.8888888888888888,
              "#fdca26"
             ],
             [
              1,
              "#f0f921"
             ]
            ],
            "type": "surface"
           }
          ],
          "table": [
           {
            "cells": {
             "fill": {
              "color": "#EBF0F8"
             },
             "line": {
              "color": "white"
             }
            },
            "header": {
             "fill": {
              "color": "#C8D4E3"
             },
             "line": {
              "color": "white"
             }
            },
            "type": "table"
           }
          ]
         },
         "layout": {
          "annotationdefaults": {
           "arrowcolor": "#2a3f5f",
           "arrowhead": 0,
           "arrowwidth": 1
          },
          "autotypenumbers": "strict",
          "coloraxis": {
           "colorbar": {
            "outlinewidth": 0,
            "ticks": ""
           }
          },
          "colorscale": {
           "diverging": [
            [
             0,
             "#8e0152"
            ],
            [
             0.1,
             "#c51b7d"
            ],
            [
             0.2,
             "#de77ae"
            ],
            [
             0.3,
             "#f1b6da"
            ],
            [
             0.4,
             "#fde0ef"
            ],
            [
             0.5,
             "#f7f7f7"
            ],
            [
             0.6,
             "#e6f5d0"
            ],
            [
             0.7,
             "#b8e186"
            ],
            [
             0.8,
             "#7fbc41"
            ],
            [
             0.9,
             "#4d9221"
            ],
            [
             1,
             "#276419"
            ]
           ],
           "sequential": [
            [
             0,
             "#0d0887"
            ],
            [
             0.1111111111111111,
             "#46039f"
            ],
            [
             0.2222222222222222,
             "#7201a8"
            ],
            [
             0.3333333333333333,
             "#9c179e"
            ],
            [
             0.4444444444444444,
             "#bd3786"
            ],
            [
             0.5555555555555556,
             "#d8576b"
            ],
            [
             0.6666666666666666,
             "#ed7953"
            ],
            [
             0.7777777777777778,
             "#fb9f3a"
            ],
            [
             0.8888888888888888,
             "#fdca26"
            ],
            [
             1,
             "#f0f921"
            ]
           ],
           "sequentialminus": [
            [
             0,
             "#0d0887"
            ],
            [
             0.1111111111111111,
             "#46039f"
            ],
            [
             0.2222222222222222,
             "#7201a8"
            ],
            [
             0.3333333333333333,
             "#9c179e"
            ],
            [
             0.4444444444444444,
             "#bd3786"
            ],
            [
             0.5555555555555556,
             "#d8576b"
            ],
            [
             0.6666666666666666,
             "#ed7953"
            ],
            [
             0.7777777777777778,
             "#fb9f3a"
            ],
            [
             0.8888888888888888,
             "#fdca26"
            ],
            [
             1,
             "#f0f921"
            ]
           ]
          },
          "colorway": [
           "#636efa",
           "#EF553B",
           "#00cc96",
           "#ab63fa",
           "#FFA15A",
           "#19d3f3",
           "#FF6692",
           "#B6E880",
           "#FF97FF",
           "#FECB52"
          ],
          "font": {
           "color": "#2a3f5f"
          },
          "geo": {
           "bgcolor": "white",
           "lakecolor": "white",
           "landcolor": "#E5ECF6",
           "showlakes": true,
           "showland": true,
           "subunitcolor": "white"
          },
          "hoverlabel": {
           "align": "left"
          },
          "hovermode": "closest",
          "mapbox": {
           "style": "light"
          },
          "paper_bgcolor": "white",
          "plot_bgcolor": "#E5ECF6",
          "polar": {
           "angularaxis": {
            "gridcolor": "white",
            "linecolor": "white",
            "ticks": ""
           },
           "bgcolor": "#E5ECF6",
           "radialaxis": {
            "gridcolor": "white",
            "linecolor": "white",
            "ticks": ""
           }
          },
          "scene": {
           "xaxis": {
            "backgroundcolor": "#E5ECF6",
            "gridcolor": "white",
            "gridwidth": 2,
            "linecolor": "white",
            "showbackground": true,
            "ticks": "",
            "zerolinecolor": "white"
           },
           "yaxis": {
            "backgroundcolor": "#E5ECF6",
            "gridcolor": "white",
            "gridwidth": 2,
            "linecolor": "white",
            "showbackground": true,
            "ticks": "",
            "zerolinecolor": "white"
           },
           "zaxis": {
            "backgroundcolor": "#E5ECF6",
            "gridcolor": "white",
            "gridwidth": 2,
            "linecolor": "white",
            "showbackground": true,
            "ticks": "",
            "zerolinecolor": "white"
           }
          },
          "shapedefaults": {
           "line": {
            "color": "#2a3f5f"
           }
          },
          "ternary": {
           "aaxis": {
            "gridcolor": "white",
            "linecolor": "white",
            "ticks": ""
           },
           "baxis": {
            "gridcolor": "white",
            "linecolor": "white",
            "ticks": ""
           },
           "bgcolor": "#E5ECF6",
           "caxis": {
            "gridcolor": "white",
            "linecolor": "white",
            "ticks": ""
           }
          },
          "title": {
           "x": 0.05
          },
          "xaxis": {
           "automargin": true,
           "gridcolor": "white",
           "linecolor": "white",
           "ticks": "",
           "title": {
            "standoff": 15
           },
           "zerolinecolor": "white",
           "zerolinewidth": 2
          },
          "yaxis": {
           "automargin": true,
           "gridcolor": "white",
           "linecolor": "white",
           "ticks": "",
           "title": {
            "standoff": 15
           },
           "zerolinecolor": "white",
           "zerolinewidth": 2
          }
         }
        },
        "title": {
         "font": {
          "color": "white",
          "family": "sans-serif"
         },
         "text": "Plagiarism Source"
        },
        "width": 800
       }
      }
     },
     "metadata": {},
     "output_type": "display_data"
    }
   ],
   "source": [
    "# Show Pie Chart-II\n",
    "figP2.show()"
   ]
  },
  {
   "cell_type": "code",
   "execution_count": null,
   "metadata": {},
   "outputs": [],
   "source": [
    "# Modily the DataFrame and add colums\n",
    "df2 = modify_df(df2,source_lang_dict)"
   ]
  },
  {
   "cell_type": "code",
   "execution_count": null,
   "metadata": {},
   "outputs": [
    {
     "data": {
      "text/html": [
       "<style type=\"text/css\">\n",
       "</style>\n",
       "<table id=\"T_2d286\">\n",
       "  <thead>\n",
       "    <tr>\n",
       "      <th class=\"blank level0\" >&nbsp;</th>\n",
       "      <th id=\"T_2d286_level0_col0\" class=\"col_heading level0 col0\" >Source</th>\n",
       "      <th id=\"T_2d286_level0_col1\" class=\"col_heading level0 col1\" >No. of Words</th>\n",
       "      <th id=\"T_2d286_level0_col2\" class=\"col_heading level0 col2\" >Percent</th>\n",
       "      <th id=\"T_2d286_level0_col3\" class=\"col_heading level0 col3\" >Source Language</th>\n",
       "    </tr>\n",
       "  </thead>\n",
       "  <tbody>\n",
       "    <tr>\n",
       "      <th id=\"T_2d286_level0_row0\" class=\"row_heading level0 row0\" >0</th>\n",
       "      <td id=\"T_2d286_row0_col0\" class=\"data row0 col0\" ><a target=\"_blank\" href=\"Unplagiarised\">Unplagiarised</a></td>\n",
       "      <td id=\"T_2d286_row0_col1\" class=\"data row0 col1\" >558</td>\n",
       "      <td id=\"T_2d286_row0_col2\" class=\"data row0 col2\" >44.145570</td>\n",
       "      <td id=\"T_2d286_row0_col3\" class=\"data row0 col3\" >---</td>\n",
       "    </tr>\n",
       "    <tr>\n",
       "      <th id=\"T_2d286_level0_row1\" class=\"row_heading level0 row1\" >1</th>\n",
       "      <td id=\"T_2d286_row1_col0\" class=\"data row1 col0\" ><a target=\"_blank\" href=\"Applications of neural networks and deep learning to biomedical engineering.pdf\">Applications of neural networks and deep learning to biomedical engineering.pdf</a></td>\n",
       "      <td id=\"T_2d286_row1_col1\" class=\"data row1 col1\" >109</td>\n",
       "      <td id=\"T_2d286_row1_col2\" class=\"data row1 col2\" >8.623418</td>\n",
       "      <td id=\"T_2d286_row1_col3\" class=\"data row1 col3\" >Spanish</td>\n",
       "    </tr>\n",
       "    <tr>\n",
       "      <th id=\"T_2d286_level0_row2\" class=\"row_heading level0 row2\" >2</th>\n",
       "      <td id=\"T_2d286_row2_col0\" class=\"data row2 col0\" ><a target=\"_blank\" href=\"Artificial intelligence-machine learning in Public Administration.pdf\">Artificial intelligence-machine learning in Public Administration.pdf</a></td>\n",
       "      <td id=\"T_2d286_row2_col1\" class=\"data row2 col1\" >61</td>\n",
       "      <td id=\"T_2d286_row2_col2\" class=\"data row2 col2\" >4.825949</td>\n",
       "      <td id=\"T_2d286_row2_col3\" class=\"data row2 col3\" >Portuguese</td>\n",
       "    </tr>\n",
       "    <tr>\n",
       "      <th id=\"T_2d286_level0_row3\" class=\"row_heading level0 row3\" >3</th>\n",
       "      <td id=\"T_2d286_row3_col0\" class=\"data row3 col0\" ><a target=\"_blank\" href=\"Images, ecology and deep learning.pdf\">Images, ecology and deep learning.pdf</a></td>\n",
       "      <td id=\"T_2d286_row3_col1\" class=\"data row3 col1\" >101</td>\n",
       "      <td id=\"T_2d286_row3_col2\" class=\"data row3 col2\" >7.990506</td>\n",
       "      <td id=\"T_2d286_row3_col3\" class=\"data row3 col3\" >French</td>\n",
       "    </tr>\n",
       "    <tr>\n",
       "      <th id=\"T_2d286_level0_row4\" class=\"row_heading level0 row4\" >4</th>\n",
       "      <td id=\"T_2d286_row4_col0\" class=\"data row4 col0\" ><a target=\"_blank\" href=\"Is it possible to develop quantum computing in Venezuela.pdf\">Is it possible to develop quantum computing in Venezuela.pdf</a></td>\n",
       "      <td id=\"T_2d286_row4_col1\" class=\"data row4 col1\" >207</td>\n",
       "      <td id=\"T_2d286_row4_col2\" class=\"data row4 col2\" >16.376582</td>\n",
       "      <td id=\"T_2d286_row4_col3\" class=\"data row4 col3\" >Spanish</td>\n",
       "    </tr>\n",
       "    <tr>\n",
       "      <th id=\"T_2d286_level0_row5\" class=\"row_heading level0 row5\" >5</th>\n",
       "      <td id=\"T_2d286_row5_col0\" class=\"data row5 col0\" ><a target=\"_blank\" href=\"The Nuclear Mirage.pdf\">The Nuclear Mirage.pdf</a></td>\n",
       "      <td id=\"T_2d286_row5_col1\" class=\"data row5 col1\" >228</td>\n",
       "      <td id=\"T_2d286_row5_col2\" class=\"data row5 col2\" >18.037975</td>\n",
       "      <td id=\"T_2d286_row5_col3\" class=\"data row5 col3\" >Spanish</td>\n",
       "    </tr>\n",
       "  </tbody>\n",
       "</table>\n"
      ],
      "text/plain": [
       "<pandas.io.formats.style.Styler at 0x21c446f6fd0>"
      ]
     },
     "execution_count": 341,
     "metadata": {},
     "output_type": "execute_result"
    }
   ],
   "source": [
    "# Show tabulated data for Source documents\n",
    "df2"
   ]
  },
  {
   "cell_type": "code",
   "execution_count": null,
   "metadata": {},
   "outputs": [
    {
     "data": {
      "text/html": [
       "<style type=\"text/css\">\n",
       "</style>\n",
       "<table id=\"T_58b4d\">\n",
       "  <thead>\n",
       "    <tr>\n",
       "      <th class=\"blank level0\" >&nbsp;</th>\n",
       "      <th id=\"T_58b4d_level0_col0\" class=\"col_heading level0 col0\" >File Name</th>\n",
       "      <th id=\"T_58b4d_level0_col1\" class=\"col_heading level0 col1\" >No. of Words</th>\n",
       "      <th id=\"T_58b4d_level0_col2\" class=\"col_heading level0 col2\" >Plagiarised Percentage</th>\n",
       "      <th id=\"T_58b4d_level0_col3\" class=\"col_heading level0 col3\" >Language</th>\n",
       "    </tr>\n",
       "  </thead>\n",
       "  <tbody>\n",
       "    <tr>\n",
       "      <th id=\"T_58b4d_level0_row0\" class=\"row_heading level0 row0\" >0</th>\n",
       "      <td id=\"T_58b4d_row0_col0\" class=\"data row0 col0\" ><a target=\"_blank\" href=\"Science Article.pdf\">Science Article.pdf</a></td>\n",
       "      <td id=\"T_58b4d_row0_col1\" class=\"data row0 col1\" >1264</td>\n",
       "      <td id=\"T_58b4d_row0_col2\" class=\"data row0 col2\" >55.679110</td>\n",
       "      <td id=\"T_58b4d_row0_col3\" class=\"data row0 col3\" >English</td>\n",
       "    </tr>\n",
       "  </tbody>\n",
       "</table>\n"
      ],
      "text/plain": [
       "<pandas.io.formats.style.Styler at 0x21c446f6580>"
      ]
     },
     "execution_count": 360,
     "metadata": {},
     "output_type": "execute_result"
    }
   ],
   "source": [
    "# Show tabulated data for Suspicious document\n",
    "df3"
   ]
  }
 ],
 "metadata": {
  "kernelspec": {
   "display_name": "Python 3.9.5 ('base')",
   "language": "python",
   "name": "python3"
  },
  "language_info": {
   "codemirror_mode": {
    "name": "ipython",
    "version": 3
   },
   "file_extension": ".py",
   "mimetype": "text/x-python",
   "name": "python",
   "nbconvert_exporter": "python",
   "pygments_lexer": "ipython3",
   "version": "3.9.5"
  },
  "orig_nbformat": 4,
  "vscode": {
   "interpreter": {
    "hash": "4ded07237dbfafc8373e566cfe932557d647581b6f69415d805b7b9e9b0c4bcc"
   }
  }
 },
 "nbformat": 4,
 "nbformat_minor": 2
}
